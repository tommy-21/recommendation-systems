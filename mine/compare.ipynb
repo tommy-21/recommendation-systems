{
 "cells": [
  {
   "cell_type": "markdown",
   "metadata": {
    "cell_marker": "\"\"\""
   },
   "source": [
    "# Évaluation qualitative\n",
    "> Comparons les différents algorithmes en terme de qualité de prédiction et de temps de calcul"
   ]
  },
  {
   "cell_type": "markdown",
   "metadata": {
    "cell_marker": "\"\"\""
   },
   "source": [
    "# Comparaison entre algorithmes\n",
    "\n",
    "Charger les bibliothèques et les données"
   ]
  },
  {
   "cell_type": "code",
   "execution_count": 50,
   "metadata": {
    "lines_to_next_cell": 2,
    "tags": []
   },
   "outputs": [
    {
     "data": {
      "application/javascript": "IPython.notebook.set_autosave_interval(0)"
     },
     "metadata": {},
     "output_type": "display_data"
    },
    {
     "name": "stdout",
     "output_type": "stream",
     "text": [
      "Autosave disabled\n"
     ]
    }
   ],
   "source": [
    "%autosave 0\n",
    "%reload_ext autoreload\n",
    "%autoreload 2\n",
    "\n",
    "from data import *\n",
    "import popularity\n",
    "import knn\n",
    "import knn2\n",
    "import svd\n",
    "#import als\n",
    "\n",
    "from eval import *"
   ]
  },
  {
   "cell_type": "code",
   "execution_count": 51,
   "metadata": {
    "tags": []
   },
   "outputs": [],
   "source": [
    "import sys\n",
    "sys.path\n",
    "import data"
   ]
  },
  {
   "cell_type": "code",
   "execution_count": 52,
   "metadata": {
    "tags": []
   },
   "outputs": [
    {
     "data": {
      "text/plain": [
       "((50, 40), 389)"
      ]
     },
     "execution_count": 52,
     "metadata": {},
     "output_type": "execute_result"
    }
   ],
   "source": [
    "M = load_data(tiny=True)\n",
    "M.shape, np.sum(~np.isnan(M))"
   ]
  },
  {
   "cell_type": "markdown",
   "metadata": {},
   "source": [
    "### User-based collaborative filtering (knn)"
   ]
  },
  {
   "cell_type": "markdown",
   "metadata": {
    "cell_marker": "\"\"\""
   },
   "source": [
    "Liste d'algorithmes à comparer"
   ]
  },
  {
   "cell_type": "code",
   "execution_count": 53,
   "metadata": {
    "lines_to_next_cell": 2
   },
   "outputs": [],
   "source": [
    "k_list = [1, 3, 5, 7, 9, 10, 15, 20]\n",
    "recommenders = [\n",
    "    {\"fn\": popularity.complete, \"label\": \"popularity\"},\n",
    "    {\"fn\": lambda M_train: knn.complete(M_train, k=1), \"label\": f\"knn1\"},\n",
    "    {\"fn\": lambda M_train: knn.complete(M_train, k=3), \"label\": f\"knn3\"},\n",
    "    {\"fn\": lambda M_train: knn.complete(M_train, k=5), \"label\": f\"knn5\"},\n",
    "    {\"fn\": lambda M_train: knn.complete(M_train, k=7), \"label\": f\"knn7\"},\n",
    "    {\"fn\": lambda M_train: knn.complete(M_train, k=9), \"label\": f\"knn9\"},\n",
    "    {\"fn\": lambda M_train: knn.complete(M_train, k=10), \"label\": f\"knn10\"},\n",
    "    {\"fn\": lambda M_train: knn.complete(M_train, k=15), \"label\": f\"knn15\"},\n",
    "    {\"fn\": lambda M_train: knn.complete(M_train, k=20), \"label\": f\"knn20\"},\n",
    "    {\"fn\": lambda M_train: knn.complete(M_train, k=25), \"label\": f\"knn25\"},\n",
    "    {\"fn\": lambda M_train: knn.complete(M_train, k=30), \"label\": f\"knn30\"},\n",
    "    {\"fn\": lambda M_train: knn.complete(M_train, k=40), \"label\": f\"knn40\"},\n",
    "    {\"fn\": lambda M_train: knn.complete(M_train, k=50), \"label\": f\"knn50\"}\n",
    "]\n",
    "\n",
    "# recommenders += [{\"fn\": lambda M_train: knn.complete(M_train, k=k), \"label\": f\"knn_{k}\"} for k in k_list]"
   ]
  },
  {
   "cell_type": "markdown",
   "metadata": {
    "cell_marker": "\"\"\""
   },
   "source": [
    "Comparaison"
   ]
  },
  {
   "cell_type": "code",
   "execution_count": 54,
   "metadata": {},
   "outputs": [
    {
     "name": "stderr",
     "output_type": "stream",
     "text": [
      "/home/ensai/Documents/Cours_ENSAI_3A/Rec_systems/TP/repo/mine/popularity.py:40: RuntimeWarning: Mean of empty slice\n",
      "  scores = np.nanmean(M_train, axis=0)    # compute the average rating for each movies\n"
     ]
    },
    {
     "data": {
      "text/html": [
       "<div>\n",
       "<style scoped>\n",
       "    .dataframe tbody tr th:only-of-type {\n",
       "        vertical-align: middle;\n",
       "    }\n",
       "\n",
       "    .dataframe tbody tr th {\n",
       "        vertical-align: top;\n",
       "    }\n",
       "\n",
       "    .dataframe thead th {\n",
       "        text-align: right;\n",
       "    }\n",
       "</style>\n",
       "<table border=\"1\" class=\"dataframe\">\n",
       "  <thead>\n",
       "    <tr style=\"text-align: right;\">\n",
       "      <th></th>\n",
       "      <th>recommender</th>\n",
       "      <th>validation score</th>\n",
       "      <th>training score</th>\n",
       "      <th>computation time</th>\n",
       "    </tr>\n",
       "  </thead>\n",
       "  <tbody>\n",
       "    <tr>\n",
       "      <th>0</th>\n",
       "      <td>popularity</td>\n",
       "      <td>1.312026</td>\n",
       "      <td>0.000000</td>\n",
       "      <td>0.000455</td>\n",
       "    </tr>\n",
       "    <tr>\n",
       "      <th>1</th>\n",
       "      <td>knn1</td>\n",
       "      <td>1.337462</td>\n",
       "      <td>1.631381</td>\n",
       "      <td>0.675541</td>\n",
       "    </tr>\n",
       "    <tr>\n",
       "      <th>2</th>\n",
       "      <td>knn3</td>\n",
       "      <td>1.213324</td>\n",
       "      <td>1.142317</td>\n",
       "      <td>0.739217</td>\n",
       "    </tr>\n",
       "    <tr>\n",
       "      <th>3</th>\n",
       "      <td>knn5</td>\n",
       "      <td>1.211400</td>\n",
       "      <td>0.987500</td>\n",
       "      <td>0.814083</td>\n",
       "    </tr>\n",
       "    <tr>\n",
       "      <th>4</th>\n",
       "      <td>knn7</td>\n",
       "      <td>1.191549</td>\n",
       "      <td>0.919205</td>\n",
       "      <td>0.787700</td>\n",
       "    </tr>\n",
       "    <tr>\n",
       "      <th>5</th>\n",
       "      <td>knn9</td>\n",
       "      <td>1.184549</td>\n",
       "      <td>0.872570</td>\n",
       "      <td>1.252703</td>\n",
       "    </tr>\n",
       "    <tr>\n",
       "      <th>6</th>\n",
       "      <td>knn10</td>\n",
       "      <td>1.173776</td>\n",
       "      <td>0.852622</td>\n",
       "      <td>0.749827</td>\n",
       "    </tr>\n",
       "    <tr>\n",
       "      <th>7</th>\n",
       "      <td>knn15</td>\n",
       "      <td>1.157693</td>\n",
       "      <td>0.800289</td>\n",
       "      <td>0.805220</td>\n",
       "    </tr>\n",
       "    <tr>\n",
       "      <th>8</th>\n",
       "      <td>knn20</td>\n",
       "      <td>1.154527</td>\n",
       "      <td>0.786265</td>\n",
       "      <td>0.748891</td>\n",
       "    </tr>\n",
       "    <tr>\n",
       "      <th>9</th>\n",
       "      <td>knn25</td>\n",
       "      <td>1.148655</td>\n",
       "      <td>0.783178</td>\n",
       "      <td>0.630211</td>\n",
       "    </tr>\n",
       "    <tr>\n",
       "      <th>10</th>\n",
       "      <td>knn30</td>\n",
       "      <td>1.150606</td>\n",
       "      <td>0.782626</td>\n",
       "      <td>0.655945</td>\n",
       "    </tr>\n",
       "    <tr>\n",
       "      <th>11</th>\n",
       "      <td>knn40</td>\n",
       "      <td>1.150606</td>\n",
       "      <td>0.782626</td>\n",
       "      <td>0.670133</td>\n",
       "    </tr>\n",
       "    <tr>\n",
       "      <th>12</th>\n",
       "      <td>knn50</td>\n",
       "      <td>1.150606</td>\n",
       "      <td>0.782626</td>\n",
       "      <td>0.649221</td>\n",
       "    </tr>\n",
       "  </tbody>\n",
       "</table>\n",
       "</div>"
      ],
      "text/plain": [
       "   recommender  validation score  training score  computation time\n",
       "0   popularity          1.312026        0.000000          0.000455\n",
       "1         knn1          1.337462        1.631381          0.675541\n",
       "2         knn3          1.213324        1.142317          0.739217\n",
       "3         knn5          1.211400        0.987500          0.814083\n",
       "4         knn7          1.191549        0.919205          0.787700\n",
       "5         knn9          1.184549        0.872570          1.252703\n",
       "6        knn10          1.173776        0.852622          0.749827\n",
       "7        knn15          1.157693        0.800289          0.805220\n",
       "8        knn20          1.154527        0.786265          0.748891\n",
       "9        knn25          1.148655        0.783178          0.630211\n",
       "10       knn30          1.150606        0.782626          0.655945\n",
       "11       knn40          1.150606        0.782626          0.670133\n",
       "12       knn50          1.150606        0.782626          0.649221"
      ]
     },
     "execution_count": 54,
     "metadata": {},
     "output_type": "execute_result"
    }
   ],
   "source": [
    "user_based_knn_leaderboard = quantitative_comparison(RMSE, M, recommenders, prop=0.8, nrep=3)\n",
    "user_based_knn_leaderboard"
   ]
  },
  {
   "cell_type": "markdown",
   "metadata": {},
   "source": [
    "La meilleure valeur de k est 25. Elle permet d'obtenir le meilleur score sur l'échantillon de validation (1.148655)."
   ]
  },
  {
   "cell_type": "markdown",
   "metadata": {},
   "source": [
    "### Item-based collaborative filtering (knn)"
   ]
  },
  {
   "cell_type": "markdown",
   "metadata": {},
   "source": [
    "Liste d'algorithmes à comparer"
   ]
  },
  {
   "cell_type": "code",
   "execution_count": 55,
   "metadata": {},
   "outputs": [],
   "source": [
    "recommenders = [\n",
    "    {\"fn\": lambda M_train: knn2.complete(M_train, k=1), \"label\": f\"knn2_1\"},\n",
    "    {\"fn\": lambda M_train: knn2.complete(M_train, k=3), \"label\": f\"knn2_3\"},\n",
    "    {\"fn\": lambda M_train: knn2.complete(M_train, k=5), \"label\": f\"knn2_5\"},\n",
    "    {\"fn\": lambda M_train: knn2.complete(M_train, k=7), \"label\": f\"knn2_7\"},\n",
    "    {\"fn\": lambda M_train: knn2.complete(M_train, k=9), \"label\": f\"knn2_9\"},\n",
    "    {\"fn\": lambda M_train: knn2.complete(M_train, k=10), \"label\": f\"knn2_10\"},\n",
    "    {\"fn\": lambda M_train: knn2.complete(M_train, k=15), \"label\": f\"knn2_15\"},\n",
    "    {\"fn\": lambda M_train: knn2.complete(M_train, k=20), \"label\": f\"knn2_20\"},\n",
    "    {\"fn\": lambda M_train: knn2.complete(M_train, k=25), \"label\": f\"knn2_25\"},\n",
    "    {\"fn\": lambda M_train: knn2.complete(M_train, k=30), \"label\": f\"knn2_30\"}\n",
    "]\n",
    "\n",
    "# recommenders = [{\"fn\": lambda M_train: knn2.complete(M_train, k=k), \"label\": f\"knn_{k}\"} for k in k_list]"
   ]
  },
  {
   "cell_type": "code",
   "execution_count": 56,
   "metadata": {},
   "outputs": [
    {
     "data": {
      "text/html": [
       "<div>\n",
       "<style scoped>\n",
       "    .dataframe tbody tr th:only-of-type {\n",
       "        vertical-align: middle;\n",
       "    }\n",
       "\n",
       "    .dataframe tbody tr th {\n",
       "        vertical-align: top;\n",
       "    }\n",
       "\n",
       "    .dataframe thead th {\n",
       "        text-align: right;\n",
       "    }\n",
       "</style>\n",
       "<table border=\"1\" class=\"dataframe\">\n",
       "  <thead>\n",
       "    <tr style=\"text-align: right;\">\n",
       "      <th></th>\n",
       "      <th>recommender</th>\n",
       "      <th>validation score</th>\n",
       "      <th>training score</th>\n",
       "      <th>computation time</th>\n",
       "    </tr>\n",
       "  </thead>\n",
       "  <tbody>\n",
       "    <tr>\n",
       "      <th>0</th>\n",
       "      <td>knn2_1</td>\n",
       "      <td>1.203240</td>\n",
       "      <td>1.569281</td>\n",
       "      <td>0.581577</td>\n",
       "    </tr>\n",
       "    <tr>\n",
       "      <th>1</th>\n",
       "      <td>knn2_3</td>\n",
       "      <td>1.059928</td>\n",
       "      <td>1.192100</td>\n",
       "      <td>0.624341</td>\n",
       "    </tr>\n",
       "    <tr>\n",
       "      <th>2</th>\n",
       "      <td>knn2_5</td>\n",
       "      <td>1.041348</td>\n",
       "      <td>1.041334</td>\n",
       "      <td>0.704241</td>\n",
       "    </tr>\n",
       "    <tr>\n",
       "      <th>3</th>\n",
       "      <td>knn2_7</td>\n",
       "      <td>1.038990</td>\n",
       "      <td>0.959289</td>\n",
       "      <td>0.665937</td>\n",
       "    </tr>\n",
       "    <tr>\n",
       "      <th>4</th>\n",
       "      <td>knn2_9</td>\n",
       "      <td>1.044782</td>\n",
       "      <td>0.897705</td>\n",
       "      <td>0.685661</td>\n",
       "    </tr>\n",
       "    <tr>\n",
       "      <th>5</th>\n",
       "      <td>knn2_10</td>\n",
       "      <td>1.046224</td>\n",
       "      <td>0.870014</td>\n",
       "      <td>0.730516</td>\n",
       "    </tr>\n",
       "    <tr>\n",
       "      <th>6</th>\n",
       "      <td>knn2_15</td>\n",
       "      <td>1.045143</td>\n",
       "      <td>0.799300</td>\n",
       "      <td>0.678415</td>\n",
       "    </tr>\n",
       "    <tr>\n",
       "      <th>7</th>\n",
       "      <td>knn2_20</td>\n",
       "      <td>1.048382</td>\n",
       "      <td>0.769467</td>\n",
       "      <td>0.640338</td>\n",
       "    </tr>\n",
       "    <tr>\n",
       "      <th>8</th>\n",
       "      <td>knn2_25</td>\n",
       "      <td>1.040307</td>\n",
       "      <td>0.765439</td>\n",
       "      <td>0.672479</td>\n",
       "    </tr>\n",
       "    <tr>\n",
       "      <th>9</th>\n",
       "      <td>knn2_30</td>\n",
       "      <td>1.042131</td>\n",
       "      <td>0.767008</td>\n",
       "      <td>0.665543</td>\n",
       "    </tr>\n",
       "  </tbody>\n",
       "</table>\n",
       "</div>"
      ],
      "text/plain": [
       "  recommender  validation score  training score  computation time\n",
       "0      knn2_1          1.203240        1.569281          0.581577\n",
       "1      knn2_3          1.059928        1.192100          0.624341\n",
       "2      knn2_5          1.041348        1.041334          0.704241\n",
       "3      knn2_7          1.038990        0.959289          0.665937\n",
       "4      knn2_9          1.044782        0.897705          0.685661\n",
       "5     knn2_10          1.046224        0.870014          0.730516\n",
       "6     knn2_15          1.045143        0.799300          0.678415\n",
       "7     knn2_20          1.048382        0.769467          0.640338\n",
       "8     knn2_25          1.040307        0.765439          0.672479\n",
       "9     knn2_30          1.042131        0.767008          0.665543"
      ]
     },
     "execution_count": 56,
     "metadata": {},
     "output_type": "execute_result"
    }
   ],
   "source": [
    "item_based_knn_leaderboard = quantitative_comparison(RMSE, M[:, 1:], recommenders, prop=0.8, nrep=3)\n",
    "item_based_knn_leaderboard"
   ]
  },
  {
   "cell_type": "markdown",
   "metadata": {},
   "source": [
    "La première colonne (film) des données est pleine de `nan`. Par conséquent, même après avoir appliqué la fonction `knn2.complete()`, elle reste inchangée et empêche le calcul des scores de validation. Je supprime donc la colonne concernée avant d'appliquer les modèles basés sur l'approche item-based. \n",
    "\n",
    "En outre, la meilleure valeur de k ici est 7, avec un score de validation de 1,03899."
   ]
  },
  {
   "cell_type": "markdown",
   "metadata": {
    "cell_marker": "\"\"\""
   },
   "source": [
    "# Paramétrage de méthode basée sur SVD\n",
    "\n",
    "Charger les bibliothèques et les données"
   ]
  },
  {
   "cell_type": "code",
   "execution_count": 74,
   "metadata": {},
   "outputs": [
    {
     "data": {
      "text/plain": [
       "((500, 400), 31553)"
      ]
     },
     "execution_count": 74,
     "metadata": {},
     "output_type": "execute_result"
    }
   ],
   "source": [
    "M = load_data(tiny=False)\n",
    "M.shape, np.sum(~np.isnan(M))"
   ]
  },
  {
   "cell_type": "markdown",
   "metadata": {
    "cell_marker": "\"\"\""
   },
   "source": [
    "On fait varier $k$. Observe-t-on un phénomène de sur-apprentissage ?"
   ]
  },
  {
   "cell_type": "code",
   "execution_count": 75,
   "metadata": {
    "lines_to_next_cell": 2
   },
   "outputs": [
    {
     "data": {
      "text/html": [
       "<div>\n",
       "<style scoped>\n",
       "    .dataframe tbody tr th:only-of-type {\n",
       "        vertical-align: middle;\n",
       "    }\n",
       "\n",
       "    .dataframe tbody tr th {\n",
       "        vertical-align: top;\n",
       "    }\n",
       "\n",
       "    .dataframe thead th {\n",
       "        text-align: right;\n",
       "    }\n",
       "</style>\n",
       "<table border=\"1\" class=\"dataframe\">\n",
       "  <thead>\n",
       "    <tr style=\"text-align: right;\">\n",
       "      <th></th>\n",
       "      <th>recommender</th>\n",
       "      <th>validation score</th>\n",
       "      <th>training score</th>\n",
       "      <th>computation time</th>\n",
       "    </tr>\n",
       "  </thead>\n",
       "  <tbody>\n",
       "    <tr>\n",
       "      <th>0</th>\n",
       "      <td>svd3</td>\n",
       "      <td>2.651221</td>\n",
       "      <td>2.574239e+00</td>\n",
       "      <td>0.208200</td>\n",
       "    </tr>\n",
       "    <tr>\n",
       "      <th>1</th>\n",
       "      <td>svd5</td>\n",
       "      <td>2.575149</td>\n",
       "      <td>2.453971e+00</td>\n",
       "      <td>0.139622</td>\n",
       "    </tr>\n",
       "    <tr>\n",
       "      <th>2</th>\n",
       "      <td>svd8</td>\n",
       "      <td>2.553775</td>\n",
       "      <td>2.337218e+00</td>\n",
       "      <td>0.127798</td>\n",
       "    </tr>\n",
       "    <tr>\n",
       "      <th>3</th>\n",
       "      <td>svd10</td>\n",
       "      <td>2.570568</td>\n",
       "      <td>2.283717e+00</td>\n",
       "      <td>0.168516</td>\n",
       "    </tr>\n",
       "    <tr>\n",
       "      <th>4</th>\n",
       "      <td>svd20</td>\n",
       "      <td>2.716986</td>\n",
       "      <td>2.076845e+00</td>\n",
       "      <td>0.129136</td>\n",
       "    </tr>\n",
       "    <tr>\n",
       "      <th>5</th>\n",
       "      <td>svd50</td>\n",
       "      <td>3.148233</td>\n",
       "      <td>1.605829e+00</td>\n",
       "      <td>0.191183</td>\n",
       "    </tr>\n",
       "    <tr>\n",
       "      <th>6</th>\n",
       "      <td>svd100</td>\n",
       "      <td>3.532771</td>\n",
       "      <td>1.038684e+00</td>\n",
       "      <td>0.195464</td>\n",
       "    </tr>\n",
       "    <tr>\n",
       "      <th>7</th>\n",
       "      <td>svd200</td>\n",
       "      <td>3.781206</td>\n",
       "      <td>3.800365e-01</td>\n",
       "      <td>0.144218</td>\n",
       "    </tr>\n",
       "    <tr>\n",
       "      <th>8</th>\n",
       "      <td>svd400</td>\n",
       "      <td>3.828862</td>\n",
       "      <td>7.880122e-15</td>\n",
       "      <td>0.132540</td>\n",
       "    </tr>\n",
       "  </tbody>\n",
       "</table>\n",
       "</div>"
      ],
      "text/plain": [
       "  recommender  validation score  training score  computation time\n",
       "0        svd3          2.651221    2.574239e+00          0.208200\n",
       "1        svd5          2.575149    2.453971e+00          0.139622\n",
       "2        svd8          2.553775    2.337218e+00          0.127798\n",
       "3       svd10          2.570568    2.283717e+00          0.168516\n",
       "4       svd20          2.716986    2.076845e+00          0.129136\n",
       "5       svd50          3.148233    1.605829e+00          0.191183\n",
       "6      svd100          3.532771    1.038684e+00          0.195464\n",
       "7      svd200          3.781206    3.800365e-01          0.144218\n",
       "8      svd400          3.828862    7.880122e-15          0.132540"
      ]
     },
     "execution_count": 75,
     "metadata": {},
     "output_type": "execute_result"
    }
   ],
   "source": [
    "recommenders = [\n",
    "#    {\"fn\": lambda M_train: knn.complete(M_train, k=10), \"label\": \"knn10\"},\n",
    "    {\"fn\": lambda M_train: svd.complete(M_train, k=3), \"label\": \"svd3\"},\n",
    "    {\"fn\": lambda M_train: svd.complete(M_train, k=5), \"label\": \"svd5\"},\n",
    "    {\"fn\": lambda M_train: svd.complete(M_train, k=8), \"label\": \"svd8\"},\n",
    "    {\"fn\": lambda M_train: svd.complete(M_train, k=10), \"label\": \"svd10\"},\n",
    "    {\"fn\": lambda M_train: svd.complete(M_train, k=20), \"label\": \"svd20\"},\n",
    "    {\"fn\": lambda M_train: svd.complete(M_train, k=50), \"label\": \"svd50\"},\n",
    "    {\"fn\": lambda M_train: svd.complete(M_train, k=100), \"label\": \"svd100\"},\n",
    "    {\"fn\": lambda M_train: svd.complete(M_train, k=200), \"label\": \"svd200\"},\n",
    "    {\"fn\": lambda M_train: svd.complete(M_train, k=400), \"label\": \"svd400\"},\n",
    "    ]\n",
    "res_fill_with_zeros = quantitative_comparison(RMSE, M, recommenders, prop=0.8, nrep=4)\n",
    "res_fill_with_zeros"
   ]
  },
  {
   "cell_type": "markdown",
   "metadata": {},
   "source": [
    "Oui, on observe ici un phénomène de sur-apprentissage car le score sur les données d'entrainement dimunue jusqu'à atteindre presque 0 (pour k=400) alors que le score sur les données de validation augmente.\n",
    "\n",
    "La meilleure valeur de k est 8 avec un score de validation de 2.5537"
   ]
  },
  {
   "cell_type": "markdown",
   "metadata": {},
   "source": [
    "Quelques recommendations faites par cette méthode"
   ]
  },
  {
   "cell_type": "code",
   "execution_count": 80,
   "metadata": {},
   "outputs": [
    {
     "data": {
      "text/plain": [
       "58"
      ]
     },
     "execution_count": 80,
     "metadata": {},
     "output_type": "execute_result"
    }
   ],
   "source": [
    "svd.recommend(M, 6, k=8)"
   ]
  },
  {
   "cell_type": "code",
   "execution_count": 81,
   "metadata": {},
   "outputs": [
    {
     "data": {
      "text/plain": [
       "127"
      ]
     },
     "execution_count": 81,
     "metadata": {},
     "output_type": "execute_result"
    }
   ],
   "source": [
    "svd.recommend(M, 155, k=8)"
   ]
  },
  {
   "cell_type": "code",
   "execution_count": 82,
   "metadata": {},
   "outputs": [
    {
     "data": {
      "text/plain": [
       "172"
      ]
     },
     "execution_count": 82,
     "metadata": {},
     "output_type": "execute_result"
    }
   ],
   "source": [
    "svd.recommend(M, 296, k=8)"
   ]
  },
  {
   "cell_type": "code",
   "execution_count": 83,
   "metadata": {},
   "outputs": [
    {
     "data": {
      "text/plain": [
       "272"
      ]
     },
     "execution_count": 83,
     "metadata": {},
     "output_type": "execute_result"
    }
   ],
   "source": [
    "svd.recommend(M, 361, k=8)"
   ]
  },
  {
   "cell_type": "code",
   "execution_count": null,
   "metadata": {},
   "outputs": [],
   "source": []
  }
 ],
 "metadata": {
  "jupytext": {
   "cell_markers": "\"\"\"",
   "encoding": "# -*- coding: utf-8 -*-",
   "formats": "ipynb,py:percent"
  },
  "kernelspec": {
   "display_name": "Python 3",
   "language": "python",
   "name": "python3"
  },
  "language_info": {
   "codemirror_mode": {
    "name": "ipython",
    "version": 3
   },
   "file_extension": ".py",
   "mimetype": "text/x-python",
   "name": "python",
   "nbconvert_exporter": "python",
   "pygments_lexer": "ipython3",
   "version": "3.8.10"
  }
 },
 "nbformat": 4,
 "nbformat_minor": 4
}
