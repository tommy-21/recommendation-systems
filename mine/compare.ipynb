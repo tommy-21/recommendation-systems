{
 "cells": [
  {
   "cell_type": "markdown",
   "metadata": {
    "cell_marker": "\"\"\""
   },
   "source": [
    "# Évaluation qualitative\n",
    "> Comparons les différents algorithmes en terme de qualité de prédiction et de temps de calcul"
   ]
  },
  {
   "cell_type": "markdown",
   "metadata": {
    "cell_marker": "\"\"\""
   },
   "source": [
    "# Comparaison entre algorithmes\n",
    "\n",
    "Charger les bibliothèques et les données"
   ]
  },
  {
   "cell_type": "code",
   "execution_count": 96,
   "metadata": {
    "lines_to_next_cell": 2,
    "tags": []
   },
   "outputs": [
    {
     "data": {
      "application/javascript": "IPython.notebook.set_autosave_interval(0)"
     },
     "metadata": {},
     "output_type": "display_data"
    },
    {
     "name": "stdout",
     "output_type": "stream",
     "text": [
      "Autosave disabled\n"
     ]
    }
   ],
   "source": [
    "%autosave 0\n",
    "%reload_ext autoreload\n",
    "%autoreload 2\n",
    "\n",
    "from data import *\n",
    "import popularity\n",
    "import knn\n",
    "import knn2\n",
    "import svd\n",
    "#import als\n",
    "\n",
    "from eval import *"
   ]
  },
  {
   "cell_type": "code",
   "execution_count": 51,
   "metadata": {
    "tags": []
   },
   "outputs": [],
   "source": [
    "import sys\n",
    "sys.path\n",
    "import data"
   ]
  },
  {
   "cell_type": "code",
   "execution_count": 52,
   "metadata": {
    "tags": []
   },
   "outputs": [
    {
     "data": {
      "text/plain": [
       "((50, 40), 389)"
      ]
     },
     "execution_count": 52,
     "metadata": {},
     "output_type": "execute_result"
    }
   ],
   "source": [
    "M = load_data(tiny=True)\n",
    "M.shape, np.sum(~np.isnan(M))"
   ]
  },
  {
   "cell_type": "markdown",
   "metadata": {},
   "source": [
    "## 3.2. KNN : approche memory-based k plus proches voisins"
   ]
  },
  {
   "cell_type": "markdown",
   "metadata": {},
   "source": [
    "### User-based collaborative filtering (knn)"
   ]
  },
  {
   "cell_type": "markdown",
   "metadata": {
    "cell_marker": "\"\"\""
   },
   "source": [
    "Liste d'algorithmes à comparer"
   ]
  },
  {
   "cell_type": "code",
   "execution_count": 111,
   "metadata": {
    "lines_to_next_cell": 2
   },
   "outputs": [],
   "source": [
    "recommenders_ub_knn = [\n",
    "    {\"fn\": popularity.complete, \"label\": \"popularity\"},\n",
    "    {\"fn\": lambda M_train: knn.complete(M_train, k=1), \"label\": f\"knn1\"},\n",
    "    {\"fn\": lambda M_train: knn.complete(M_train, k=3), \"label\": f\"knn3\"},\n",
    "    {\"fn\": lambda M_train: knn.complete(M_train, k=5), \"label\": f\"knn5\"},\n",
    "    {\"fn\": lambda M_train: knn.complete(M_train, k=7), \"label\": f\"knn7\"},\n",
    "    {\"fn\": lambda M_train: knn.complete(M_train, k=9), \"label\": f\"knn9\"},\n",
    "    {\"fn\": lambda M_train: knn.complete(M_train, k=10), \"label\": f\"knn10\"},\n",
    "    {\"fn\": lambda M_train: knn.complete(M_train, k=15), \"label\": f\"knn15\"},\n",
    "    {\"fn\": lambda M_train: knn.complete(M_train, k=20), \"label\": f\"knn20\"},\n",
    "    {\"fn\": lambda M_train: knn.complete(M_train, k=25), \"label\": f\"knn25\"},\n",
    "    {\"fn\": lambda M_train: knn.complete(M_train, k=30), \"label\": f\"knn30\"},\n",
    "    {\"fn\": lambda M_train: knn.complete(M_train, k=40), \"label\": f\"knn40\"},\n",
    "    {\"fn\": lambda M_train: knn.complete(M_train, k=50), \"label\": f\"knn50\"}\n",
    "]"
   ]
  },
  {
   "cell_type": "markdown",
   "metadata": {
    "cell_marker": "\"\"\""
   },
   "source": [
    "Comparaison"
   ]
  },
  {
   "cell_type": "code",
   "execution_count": 54,
   "metadata": {},
   "outputs": [
    {
     "name": "stderr",
     "output_type": "stream",
     "text": [
      "/home/ensai/Documents/Cours_ENSAI_3A/Rec_systems/TP/repo/mine/popularity.py:40: RuntimeWarning: Mean of empty slice\n",
      "  scores = np.nanmean(M_train, axis=0)    # compute the average rating for each movies\n"
     ]
    },
    {
     "data": {
      "text/html": [
       "<div>\n",
       "<style scoped>\n",
       "    .dataframe tbody tr th:only-of-type {\n",
       "        vertical-align: middle;\n",
       "    }\n",
       "\n",
       "    .dataframe tbody tr th {\n",
       "        vertical-align: top;\n",
       "    }\n",
       "\n",
       "    .dataframe thead th {\n",
       "        text-align: right;\n",
       "    }\n",
       "</style>\n",
       "<table border=\"1\" class=\"dataframe\">\n",
       "  <thead>\n",
       "    <tr style=\"text-align: right;\">\n",
       "      <th></th>\n",
       "      <th>recommender</th>\n",
       "      <th>validation score</th>\n",
       "      <th>training score</th>\n",
       "      <th>computation time</th>\n",
       "    </tr>\n",
       "  </thead>\n",
       "  <tbody>\n",
       "    <tr>\n",
       "      <th>0</th>\n",
       "      <td>popularity</td>\n",
       "      <td>1.312026</td>\n",
       "      <td>0.000000</td>\n",
       "      <td>0.000455</td>\n",
       "    </tr>\n",
       "    <tr>\n",
       "      <th>1</th>\n",
       "      <td>knn1</td>\n",
       "      <td>1.337462</td>\n",
       "      <td>1.631381</td>\n",
       "      <td>0.675541</td>\n",
       "    </tr>\n",
       "    <tr>\n",
       "      <th>2</th>\n",
       "      <td>knn3</td>\n",
       "      <td>1.213324</td>\n",
       "      <td>1.142317</td>\n",
       "      <td>0.739217</td>\n",
       "    </tr>\n",
       "    <tr>\n",
       "      <th>3</th>\n",
       "      <td>knn5</td>\n",
       "      <td>1.211400</td>\n",
       "      <td>0.987500</td>\n",
       "      <td>0.814083</td>\n",
       "    </tr>\n",
       "    <tr>\n",
       "      <th>4</th>\n",
       "      <td>knn7</td>\n",
       "      <td>1.191549</td>\n",
       "      <td>0.919205</td>\n",
       "      <td>0.787700</td>\n",
       "    </tr>\n",
       "    <tr>\n",
       "      <th>5</th>\n",
       "      <td>knn9</td>\n",
       "      <td>1.184549</td>\n",
       "      <td>0.872570</td>\n",
       "      <td>1.252703</td>\n",
       "    </tr>\n",
       "    <tr>\n",
       "      <th>6</th>\n",
       "      <td>knn10</td>\n",
       "      <td>1.173776</td>\n",
       "      <td>0.852622</td>\n",
       "      <td>0.749827</td>\n",
       "    </tr>\n",
       "    <tr>\n",
       "      <th>7</th>\n",
       "      <td>knn15</td>\n",
       "      <td>1.157693</td>\n",
       "      <td>0.800289</td>\n",
       "      <td>0.805220</td>\n",
       "    </tr>\n",
       "    <tr>\n",
       "      <th>8</th>\n",
       "      <td>knn20</td>\n",
       "      <td>1.154527</td>\n",
       "      <td>0.786265</td>\n",
       "      <td>0.748891</td>\n",
       "    </tr>\n",
       "    <tr>\n",
       "      <th>9</th>\n",
       "      <td>knn25</td>\n",
       "      <td>1.148655</td>\n",
       "      <td>0.783178</td>\n",
       "      <td>0.630211</td>\n",
       "    </tr>\n",
       "    <tr>\n",
       "      <th>10</th>\n",
       "      <td>knn30</td>\n",
       "      <td>1.150606</td>\n",
       "      <td>0.782626</td>\n",
       "      <td>0.655945</td>\n",
       "    </tr>\n",
       "    <tr>\n",
       "      <th>11</th>\n",
       "      <td>knn40</td>\n",
       "      <td>1.150606</td>\n",
       "      <td>0.782626</td>\n",
       "      <td>0.670133</td>\n",
       "    </tr>\n",
       "    <tr>\n",
       "      <th>12</th>\n",
       "      <td>knn50</td>\n",
       "      <td>1.150606</td>\n",
       "      <td>0.782626</td>\n",
       "      <td>0.649221</td>\n",
       "    </tr>\n",
       "  </tbody>\n",
       "</table>\n",
       "</div>"
      ],
      "text/plain": [
       "   recommender  validation score  training score  computation time\n",
       "0   popularity          1.312026        0.000000          0.000455\n",
       "1         knn1          1.337462        1.631381          0.675541\n",
       "2         knn3          1.213324        1.142317          0.739217\n",
       "3         knn5          1.211400        0.987500          0.814083\n",
       "4         knn7          1.191549        0.919205          0.787700\n",
       "5         knn9          1.184549        0.872570          1.252703\n",
       "6        knn10          1.173776        0.852622          0.749827\n",
       "7        knn15          1.157693        0.800289          0.805220\n",
       "8        knn20          1.154527        0.786265          0.748891\n",
       "9        knn25          1.148655        0.783178          0.630211\n",
       "10       knn30          1.150606        0.782626          0.655945\n",
       "11       knn40          1.150606        0.782626          0.670133\n",
       "12       knn50          1.150606        0.782626          0.649221"
      ]
     },
     "execution_count": 54,
     "metadata": {},
     "output_type": "execute_result"
    }
   ],
   "source": [
    "user_based_knn_leaderboard = quantitative_comparison(RMSE, M, recommenders_ub_knn, prop=0.8, nrep=3)\n",
    "user_based_knn_leaderboard"
   ]
  },
  {
   "cell_type": "markdown",
   "metadata": {},
   "source": [
    "La meilleure valeur de k est 25. Elle permet d'obtenir le meilleur score sur l'échantillon de validation (1.148655)."
   ]
  },
  {
   "cell_type": "markdown",
   "metadata": {},
   "source": [
    "### Item-based collaborative filtering (knn)"
   ]
  },
  {
   "cell_type": "markdown",
   "metadata": {},
   "source": [
    "Liste d'algorithmes à comparer"
   ]
  },
  {
   "cell_type": "code",
   "execution_count": 112,
   "metadata": {},
   "outputs": [],
   "source": [
    "recommenders_ib_knn = [\n",
    "    {\"fn\": lambda M_train: knn2.complete(M_train, k=1), \"label\": f\"knn2_1\"},\n",
    "    {\"fn\": lambda M_train: knn2.complete(M_train, k=3), \"label\": f\"knn2_3\"},\n",
    "    {\"fn\": lambda M_train: knn2.complete(M_train, k=5), \"label\": f\"knn2_5\"},\n",
    "    {\"fn\": lambda M_train: knn2.complete(M_train, k=7), \"label\": f\"knn2_7\"},\n",
    "    {\"fn\": lambda M_train: knn2.complete(M_train, k=9), \"label\": f\"knn2_9\"},\n",
    "    {\"fn\": lambda M_train: knn2.complete(M_train, k=10), \"label\": f\"knn2_10\"},\n",
    "    {\"fn\": lambda M_train: knn2.complete(M_train, k=15), \"label\": f\"knn2_15\"},\n",
    "    {\"fn\": lambda M_train: knn2.complete(M_train, k=20), \"label\": f\"knn2_20\"},\n",
    "    {\"fn\": lambda M_train: knn2.complete(M_train, k=25), \"label\": f\"knn2_25\"},\n",
    "    {\"fn\": lambda M_train: knn2.complete(M_train, k=30), \"label\": f\"knn2_30\"}\n",
    "]"
   ]
  },
  {
   "cell_type": "code",
   "execution_count": 56,
   "metadata": {},
   "outputs": [
    {
     "data": {
      "text/html": [
       "<div>\n",
       "<style scoped>\n",
       "    .dataframe tbody tr th:only-of-type {\n",
       "        vertical-align: middle;\n",
       "    }\n",
       "\n",
       "    .dataframe tbody tr th {\n",
       "        vertical-align: top;\n",
       "    }\n",
       "\n",
       "    .dataframe thead th {\n",
       "        text-align: right;\n",
       "    }\n",
       "</style>\n",
       "<table border=\"1\" class=\"dataframe\">\n",
       "  <thead>\n",
       "    <tr style=\"text-align: right;\">\n",
       "      <th></th>\n",
       "      <th>recommender</th>\n",
       "      <th>validation score</th>\n",
       "      <th>training score</th>\n",
       "      <th>computation time</th>\n",
       "    </tr>\n",
       "  </thead>\n",
       "  <tbody>\n",
       "    <tr>\n",
       "      <th>0</th>\n",
       "      <td>knn2_1</td>\n",
       "      <td>1.203240</td>\n",
       "      <td>1.569281</td>\n",
       "      <td>0.581577</td>\n",
       "    </tr>\n",
       "    <tr>\n",
       "      <th>1</th>\n",
       "      <td>knn2_3</td>\n",
       "      <td>1.059928</td>\n",
       "      <td>1.192100</td>\n",
       "      <td>0.624341</td>\n",
       "    </tr>\n",
       "    <tr>\n",
       "      <th>2</th>\n",
       "      <td>knn2_5</td>\n",
       "      <td>1.041348</td>\n",
       "      <td>1.041334</td>\n",
       "      <td>0.704241</td>\n",
       "    </tr>\n",
       "    <tr>\n",
       "      <th>3</th>\n",
       "      <td>knn2_7</td>\n",
       "      <td>1.038990</td>\n",
       "      <td>0.959289</td>\n",
       "      <td>0.665937</td>\n",
       "    </tr>\n",
       "    <tr>\n",
       "      <th>4</th>\n",
       "      <td>knn2_9</td>\n",
       "      <td>1.044782</td>\n",
       "      <td>0.897705</td>\n",
       "      <td>0.685661</td>\n",
       "    </tr>\n",
       "    <tr>\n",
       "      <th>5</th>\n",
       "      <td>knn2_10</td>\n",
       "      <td>1.046224</td>\n",
       "      <td>0.870014</td>\n",
       "      <td>0.730516</td>\n",
       "    </tr>\n",
       "    <tr>\n",
       "      <th>6</th>\n",
       "      <td>knn2_15</td>\n",
       "      <td>1.045143</td>\n",
       "      <td>0.799300</td>\n",
       "      <td>0.678415</td>\n",
       "    </tr>\n",
       "    <tr>\n",
       "      <th>7</th>\n",
       "      <td>knn2_20</td>\n",
       "      <td>1.048382</td>\n",
       "      <td>0.769467</td>\n",
       "      <td>0.640338</td>\n",
       "    </tr>\n",
       "    <tr>\n",
       "      <th>8</th>\n",
       "      <td>knn2_25</td>\n",
       "      <td>1.040307</td>\n",
       "      <td>0.765439</td>\n",
       "      <td>0.672479</td>\n",
       "    </tr>\n",
       "    <tr>\n",
       "      <th>9</th>\n",
       "      <td>knn2_30</td>\n",
       "      <td>1.042131</td>\n",
       "      <td>0.767008</td>\n",
       "      <td>0.665543</td>\n",
       "    </tr>\n",
       "  </tbody>\n",
       "</table>\n",
       "</div>"
      ],
      "text/plain": [
       "  recommender  validation score  training score  computation time\n",
       "0      knn2_1          1.203240        1.569281          0.581577\n",
       "1      knn2_3          1.059928        1.192100          0.624341\n",
       "2      knn2_5          1.041348        1.041334          0.704241\n",
       "3      knn2_7          1.038990        0.959289          0.665937\n",
       "4      knn2_9          1.044782        0.897705          0.685661\n",
       "5     knn2_10          1.046224        0.870014          0.730516\n",
       "6     knn2_15          1.045143        0.799300          0.678415\n",
       "7     knn2_20          1.048382        0.769467          0.640338\n",
       "8     knn2_25          1.040307        0.765439          0.672479\n",
       "9     knn2_30          1.042131        0.767008          0.665543"
      ]
     },
     "execution_count": 56,
     "metadata": {},
     "output_type": "execute_result"
    }
   ],
   "source": [
    "item_based_knn_leaderboard = quantitative_comparison(RMSE, M[:, 1:], recommenders_ib_knn, prop=0.8, nrep=3)\n",
    "item_based_knn_leaderboard"
   ]
  },
  {
   "cell_type": "markdown",
   "metadata": {},
   "source": [
    "La première colonne (film) des données est pleine de `nan`. Par conséquent, même après avoir appliqué la fonction `knn2.complete()`, elle reste inchangée et empêche le calcul des scores de validation. Je supprime donc la colonne concernée avant d'appliquer les modèles basés sur l'approche item-based. \n",
    "\n",
    "En outre, la meilleure valeur de k ici est 7, avec un score de validation de 1,03899."
   ]
  },
  {
   "cell_type": "markdown",
   "metadata": {
    "cell_marker": "\"\"\""
   },
   "source": [
    "## 3.3. SVD : Factorisation de matrice par décomposition en valeurs singulières"
   ]
  },
  {
   "cell_type": "markdown",
   "metadata": {},
   "source": [
    "### Grande quantité de données"
   ]
  },
  {
   "cell_type": "markdown",
   "metadata": {},
   "source": [
    "Charger les bibliothèques et les données"
   ]
  },
  {
   "cell_type": "code",
   "execution_count": 74,
   "metadata": {},
   "outputs": [
    {
     "data": {
      "text/plain": [
       "((500, 400), 31553)"
      ]
     },
     "execution_count": 74,
     "metadata": {},
     "output_type": "execute_result"
    }
   ],
   "source": [
    "M = load_data(tiny=False)\n",
    "M.shape, np.sum(~np.isnan(M))"
   ]
  },
  {
   "cell_type": "markdown",
   "metadata": {
    "cell_marker": "\"\"\""
   },
   "source": [
    "On fait varier $k$. Observe-t-on un phénomène de sur-apprentissage ?"
   ]
  },
  {
   "cell_type": "code",
   "execution_count": 75,
   "metadata": {
    "lines_to_next_cell": 2
   },
   "outputs": [
    {
     "data": {
      "text/html": [
       "<div>\n",
       "<style scoped>\n",
       "    .dataframe tbody tr th:only-of-type {\n",
       "        vertical-align: middle;\n",
       "    }\n",
       "\n",
       "    .dataframe tbody tr th {\n",
       "        vertical-align: top;\n",
       "    }\n",
       "\n",
       "    .dataframe thead th {\n",
       "        text-align: right;\n",
       "    }\n",
       "</style>\n",
       "<table border=\"1\" class=\"dataframe\">\n",
       "  <thead>\n",
       "    <tr style=\"text-align: right;\">\n",
       "      <th></th>\n",
       "      <th>recommender</th>\n",
       "      <th>validation score</th>\n",
       "      <th>training score</th>\n",
       "      <th>computation time</th>\n",
       "    </tr>\n",
       "  </thead>\n",
       "  <tbody>\n",
       "    <tr>\n",
       "      <th>0</th>\n",
       "      <td>svd3</td>\n",
       "      <td>2.651221</td>\n",
       "      <td>2.574239e+00</td>\n",
       "      <td>0.208200</td>\n",
       "    </tr>\n",
       "    <tr>\n",
       "      <th>1</th>\n",
       "      <td>svd5</td>\n",
       "      <td>2.575149</td>\n",
       "      <td>2.453971e+00</td>\n",
       "      <td>0.139622</td>\n",
       "    </tr>\n",
       "    <tr>\n",
       "      <th>2</th>\n",
       "      <td>svd8</td>\n",
       "      <td>2.553775</td>\n",
       "      <td>2.337218e+00</td>\n",
       "      <td>0.127798</td>\n",
       "    </tr>\n",
       "    <tr>\n",
       "      <th>3</th>\n",
       "      <td>svd10</td>\n",
       "      <td>2.570568</td>\n",
       "      <td>2.283717e+00</td>\n",
       "      <td>0.168516</td>\n",
       "    </tr>\n",
       "    <tr>\n",
       "      <th>4</th>\n",
       "      <td>svd20</td>\n",
       "      <td>2.716986</td>\n",
       "      <td>2.076845e+00</td>\n",
       "      <td>0.129136</td>\n",
       "    </tr>\n",
       "    <tr>\n",
       "      <th>5</th>\n",
       "      <td>svd50</td>\n",
       "      <td>3.148233</td>\n",
       "      <td>1.605829e+00</td>\n",
       "      <td>0.191183</td>\n",
       "    </tr>\n",
       "    <tr>\n",
       "      <th>6</th>\n",
       "      <td>svd100</td>\n",
       "      <td>3.532771</td>\n",
       "      <td>1.038684e+00</td>\n",
       "      <td>0.195464</td>\n",
       "    </tr>\n",
       "    <tr>\n",
       "      <th>7</th>\n",
       "      <td>svd200</td>\n",
       "      <td>3.781206</td>\n",
       "      <td>3.800365e-01</td>\n",
       "      <td>0.144218</td>\n",
       "    </tr>\n",
       "    <tr>\n",
       "      <th>8</th>\n",
       "      <td>svd400</td>\n",
       "      <td>3.828862</td>\n",
       "      <td>7.880122e-15</td>\n",
       "      <td>0.132540</td>\n",
       "    </tr>\n",
       "  </tbody>\n",
       "</table>\n",
       "</div>"
      ],
      "text/plain": [
       "  recommender  validation score  training score  computation time\n",
       "0        svd3          2.651221    2.574239e+00          0.208200\n",
       "1        svd5          2.575149    2.453971e+00          0.139622\n",
       "2        svd8          2.553775    2.337218e+00          0.127798\n",
       "3       svd10          2.570568    2.283717e+00          0.168516\n",
       "4       svd20          2.716986    2.076845e+00          0.129136\n",
       "5       svd50          3.148233    1.605829e+00          0.191183\n",
       "6      svd100          3.532771    1.038684e+00          0.195464\n",
       "7      svd200          3.781206    3.800365e-01          0.144218\n",
       "8      svd400          3.828862    7.880122e-15          0.132540"
      ]
     },
     "execution_count": 75,
     "metadata": {},
     "output_type": "execute_result"
    }
   ],
   "source": [
    "recommenders_svd = [\n",
    "#    {\"fn\": lambda M_train: knn.complete(M_train, k=10), \"label\": \"knn10\"},\n",
    "    {\"fn\": lambda M_train: svd.complete(M_train, k=3), \"label\": \"svd3\"},\n",
    "    {\"fn\": lambda M_train: svd.complete(M_train, k=5), \"label\": \"svd5\"},\n",
    "    {\"fn\": lambda M_train: svd.complete(M_train, k=8), \"label\": \"svd8\"},\n",
    "    {\"fn\": lambda M_train: svd.complete(M_train, k=10), \"label\": \"svd10\"},\n",
    "    {\"fn\": lambda M_train: svd.complete(M_train, k=20), \"label\": \"svd20\"},\n",
    "    {\"fn\": lambda M_train: svd.complete(M_train, k=50), \"label\": \"svd50\"},\n",
    "    {\"fn\": lambda M_train: svd.complete(M_train, k=100), \"label\": \"svd100\"},\n",
    "    {\"fn\": lambda M_train: svd.complete(M_train, k=200), \"label\": \"svd200\"},\n",
    "    {\"fn\": lambda M_train: svd.complete(M_train, k=400), \"label\": \"svd400\"},\n",
    "    ]\n",
    "res_fill_with_zeros = quantitative_comparison(RMSE, M, recommenders_svd, prop=0.8, nrep=4)\n",
    "res_fill_with_zeros"
   ]
  },
  {
   "cell_type": "markdown",
   "metadata": {},
   "source": [
    "Oui, on observe ici un phénomène de sur-apprentissage car le score sur les données d'entrainement dimunue jusqu'à atteindre presque 0 (pour k=400) alors que le score sur les données de validation augmente.\n",
    "\n",
    "La meilleure valeur de $k$ est 8 avec un score de validation de 2.5537"
   ]
  },
  {
   "cell_type": "markdown",
   "metadata": {},
   "source": [
    "### Quelques recommendations faites par cette méthode"
   ]
  },
  {
   "cell_type": "code",
   "execution_count": 80,
   "metadata": {},
   "outputs": [
    {
     "data": {
      "text/plain": [
       "58"
      ]
     },
     "execution_count": 80,
     "metadata": {},
     "output_type": "execute_result"
    }
   ],
   "source": [
    "svd.recommend(M, 6, k=8)"
   ]
  },
  {
   "cell_type": "code",
   "execution_count": 81,
   "metadata": {},
   "outputs": [
    {
     "data": {
      "text/plain": [
       "127"
      ]
     },
     "execution_count": 81,
     "metadata": {},
     "output_type": "execute_result"
    }
   ],
   "source": [
    "svd.recommend(M, 155, k=8)"
   ]
  },
  {
   "cell_type": "code",
   "execution_count": 82,
   "metadata": {},
   "outputs": [
    {
     "data": {
      "text/plain": [
       "172"
      ]
     },
     "execution_count": 82,
     "metadata": {},
     "output_type": "execute_result"
    }
   ],
   "source": [
    "svd.recommend(M, 296, k=8)"
   ]
  },
  {
   "cell_type": "code",
   "execution_count": 83,
   "metadata": {},
   "outputs": [
    {
     "data": {
      "text/plain": [
       "272"
      ]
     },
     "execution_count": 83,
     "metadata": {},
     "output_type": "execute_result"
    }
   ],
   "source": [
    "svd.recommend(M, 361, k=8)"
   ]
  },
  {
   "cell_type": "markdown",
   "metadata": {},
   "source": [
    "### Petite quantité de données"
   ]
  },
  {
   "cell_type": "code",
   "execution_count": 84,
   "metadata": {},
   "outputs": [
    {
     "data": {
      "text/plain": [
       "((50, 40), 389)"
      ]
     },
     "execution_count": 84,
     "metadata": {},
     "output_type": "execute_result"
    }
   ],
   "source": [
    "M = load_data(tiny=True)\n",
    "M.shape, np.sum(~np.isnan(M))"
   ]
  },
  {
   "cell_type": "code",
   "execution_count": 113,
   "metadata": {},
   "outputs": [],
   "source": [
    "recommenders_svd = [\n",
    "#    {\"fn\": lambda M_train: knn.complete(M_train, k=10), \"label\": \"knn10\"},\n",
    "    {\"fn\": lambda M_train: svd.complete(M_train, k=3), \"label\": \"svd3\"},\n",
    "    {\"fn\": lambda M_train: svd.complete(M_train, k=5), \"label\": \"svd5\"},\n",
    "    {\"fn\": lambda M_train: svd.complete(M_train, k=8), \"label\": \"svd8\"},\n",
    "    {\"fn\": lambda M_train: svd.complete(M_train, k=10), \"label\": \"svd10\"},\n",
    "    {\"fn\": lambda M_train: svd.complete(M_train, k=20), \"label\": \"svd20\"},\n",
    "    {\"fn\": lambda M_train: svd.complete(M_train, k=50), \"label\": \"svd50\"},\n",
    "    {\"fn\": lambda M_train: svd.complete(M_train, k=100), \"label\": \"svd100\"},\n",
    "    {\"fn\": lambda M_train: svd.complete(M_train, k=200), \"label\": \"svd200\"},\n",
    "    {\"fn\": lambda M_train: svd.complete(M_train, k=400), \"label\": \"svd400\"},\n",
    "    ]"
   ]
  },
  {
   "cell_type": "code",
   "execution_count": 85,
   "metadata": {},
   "outputs": [
    {
     "data": {
      "text/html": [
       "<div>\n",
       "<style scoped>\n",
       "    .dataframe tbody tr th:only-of-type {\n",
       "        vertical-align: middle;\n",
       "    }\n",
       "\n",
       "    .dataframe tbody tr th {\n",
       "        vertical-align: top;\n",
       "    }\n",
       "\n",
       "    .dataframe thead th {\n",
       "        text-align: right;\n",
       "    }\n",
       "</style>\n",
       "<table border=\"1\" class=\"dataframe\">\n",
       "  <thead>\n",
       "    <tr style=\"text-align: right;\">\n",
       "      <th></th>\n",
       "      <th>recommender</th>\n",
       "      <th>validation score</th>\n",
       "      <th>training score</th>\n",
       "      <th>computation time</th>\n",
       "    </tr>\n",
       "  </thead>\n",
       "  <tbody>\n",
       "    <tr>\n",
       "      <th>0</th>\n",
       "      <td>svd3</td>\n",
       "      <td>3.153008</td>\n",
       "      <td>2.205491e+00</td>\n",
       "      <td>0.000669</td>\n",
       "    </tr>\n",
       "    <tr>\n",
       "      <th>1</th>\n",
       "      <td>svd5</td>\n",
       "      <td>3.412829</td>\n",
       "      <td>1.855758e+00</td>\n",
       "      <td>0.000414</td>\n",
       "    </tr>\n",
       "    <tr>\n",
       "      <th>2</th>\n",
       "      <td>svd8</td>\n",
       "      <td>3.625572</td>\n",
       "      <td>1.432775e+00</td>\n",
       "      <td>0.000494</td>\n",
       "    </tr>\n",
       "    <tr>\n",
       "      <th>3</th>\n",
       "      <td>svd10</td>\n",
       "      <td>3.729769</td>\n",
       "      <td>1.191482e+00</td>\n",
       "      <td>0.000484</td>\n",
       "    </tr>\n",
       "    <tr>\n",
       "      <th>4</th>\n",
       "      <td>svd20</td>\n",
       "      <td>3.892747</td>\n",
       "      <td>4.203689e-01</td>\n",
       "      <td>0.000451</td>\n",
       "    </tr>\n",
       "    <tr>\n",
       "      <th>5</th>\n",
       "      <td>svd50</td>\n",
       "      <td>3.910568</td>\n",
       "      <td>1.382035e-14</td>\n",
       "      <td>0.000521</td>\n",
       "    </tr>\n",
       "    <tr>\n",
       "      <th>6</th>\n",
       "      <td>svd100</td>\n",
       "      <td>3.910568</td>\n",
       "      <td>1.382035e-14</td>\n",
       "      <td>0.000424</td>\n",
       "    </tr>\n",
       "    <tr>\n",
       "      <th>7</th>\n",
       "      <td>svd200</td>\n",
       "      <td>3.910568</td>\n",
       "      <td>1.382035e-14</td>\n",
       "      <td>0.000371</td>\n",
       "    </tr>\n",
       "    <tr>\n",
       "      <th>8</th>\n",
       "      <td>svd400</td>\n",
       "      <td>3.910568</td>\n",
       "      <td>1.382035e-14</td>\n",
       "      <td>0.000405</td>\n",
       "    </tr>\n",
       "  </tbody>\n",
       "</table>\n",
       "</div>"
      ],
      "text/plain": [
       "  recommender  validation score  training score  computation time\n",
       "0        svd3          3.153008    2.205491e+00          0.000669\n",
       "1        svd5          3.412829    1.855758e+00          0.000414\n",
       "2        svd8          3.625572    1.432775e+00          0.000494\n",
       "3       svd10          3.729769    1.191482e+00          0.000484\n",
       "4       svd20          3.892747    4.203689e-01          0.000451\n",
       "5       svd50          3.910568    1.382035e-14          0.000521\n",
       "6      svd100          3.910568    1.382035e-14          0.000424\n",
       "7      svd200          3.910568    1.382035e-14          0.000371\n",
       "8      svd400          3.910568    1.382035e-14          0.000405"
      ]
     },
     "execution_count": 85,
     "metadata": {},
     "output_type": "execute_result"
    }
   ],
   "source": [
    "res_fill_with_zeros = quantitative_comparison(RMSE, M, recommenders_svd, prop=0.8, nrep=4)\n",
    "res_fill_with_zeros"
   ]
  },
  {
   "cell_type": "markdown",
   "metadata": {},
   "source": [
    "Quand tiny=True, on a beaucoup moins de données et l'exécution est très rapide. Par contre, les performances sont moins intéressantes que pour des grandes quantitées de données. \n",
    "\n",
    "Par ailleurs, la meilleure valeur de k est 3 avec un score de 3,1530.  "
   ]
  },
  {
   "cell_type": "markdown",
   "metadata": {},
   "source": [
    "# 4. Métriques d'évaluations"
   ]
  },
  {
   "cell_type": "markdown",
   "metadata": {},
   "source": [
    "Pour la precision et le recall. Les formules utilisées sont les suivantes\n",
    "\n",
    "* Precision : \n",
    "$$\n",
    "\\text{Precision}_N = \\frac{1}{|U|} \\sum_{u \\in U} \\frac{|L_u^N \\cap Rel_u|}{|L_u^N|}\n",
    "$$\n",
    "\n",
    "* Recall : \n",
    "$$\n",
    "\\text{Recall}_N = \\frac{1}{|U|} \\sum_{u \\in U} \\frac{|L_u \\cap Rel_u|}{|Rel_u|}\n",
    "$$\n",
    "\n",
    "Avec :\n",
    "* $U$ l'ensemble des utilisateurs\n",
    "* $u$ un utilisateur\n",
    "* $N$ est le cut-off c'est-à-dire le nombre de recommandations. Ici, nous l'avons mis à 5 par défaut. \n",
    "\n",
    "* $Rel_u$ est l'ensemble des **relevant items**. Ici, on a choisi les items qui sont dans l'ensemble de test et qui ont une note supérieure à une certain seuil `th` avec `th=2.5` par défaut. \n",
    "\n",
    "* $L_u^N$ est la liste des recommandations. les éléments de cette liste sont choisi dans le **candidate set** $C_u$ (et on a $L_u^N \\subseteq C_u$)\n",
    "\n",
    "Dans notre cas, pour l'ensemble $C_u$, on a chosis l'approche **TestRatings** c'est-à-dire l'ensemble des éléments noté par l'utilisateur dans les données de tests. "
   ]
  },
  {
   "cell_type": "markdown",
   "metadata": {},
   "source": [
    "La nouvelle fonction de comparaison prends en compte les nouvelles métriques ajoutées"
   ]
  },
  {
   "cell_type": "code",
   "execution_count": 117,
   "metadata": {},
   "outputs": [
    {
     "name": "stderr",
     "output_type": "stream",
     "text": [
      "/home/ensai/Documents/Cours_ENSAI_3A/Rec_systems/TP/repo/mine/popularity.py:40: RuntimeWarning: Mean of empty slice\n",
      "  scores = np.nanmean(M_train, axis=0)    # compute the average rating for each movies\n"
     ]
    },
    {
     "data": {
      "text/html": [
       "<div>\n",
       "<style scoped>\n",
       "    .dataframe tbody tr th:only-of-type {\n",
       "        vertical-align: middle;\n",
       "    }\n",
       "\n",
       "    .dataframe tbody tr th {\n",
       "        vertical-align: top;\n",
       "    }\n",
       "\n",
       "    .dataframe thead th {\n",
       "        text-align: right;\n",
       "    }\n",
       "</style>\n",
       "<table border=\"1\" class=\"dataframe\">\n",
       "  <thead>\n",
       "    <tr style=\"text-align: right;\">\n",
       "      <th></th>\n",
       "      <th>recommender</th>\n",
       "      <th>RMSE validation</th>\n",
       "      <th>RMSE training</th>\n",
       "      <th>MAE validation</th>\n",
       "      <th>Precision</th>\n",
       "      <th>Recall</th>\n",
       "      <th>computation time</th>\n",
       "    </tr>\n",
       "  </thead>\n",
       "  <tbody>\n",
       "    <tr>\n",
       "      <th>0</th>\n",
       "      <td>popularity</td>\n",
       "      <td>1.174006</td>\n",
       "      <td>0.000000</td>\n",
       "      <td>0.904045</td>\n",
       "      <td>0.512791</td>\n",
       "      <td>0.976283</td>\n",
       "      <td>0.000302</td>\n",
       "    </tr>\n",
       "    <tr>\n",
       "      <th>1</th>\n",
       "      <td>knn1</td>\n",
       "      <td>1.257531</td>\n",
       "      <td>1.581307</td>\n",
       "      <td>0.998630</td>\n",
       "      <td>0.510465</td>\n",
       "      <td>0.974409</td>\n",
       "      <td>0.644761</td>\n",
       "    </tr>\n",
       "    <tr>\n",
       "      <th>2</th>\n",
       "      <td>knn3</td>\n",
       "      <td>1.224187</td>\n",
       "      <td>1.089195</td>\n",
       "      <td>0.975748</td>\n",
       "      <td>0.508140</td>\n",
       "      <td>0.971583</td>\n",
       "      <td>0.666764</td>\n",
       "    </tr>\n",
       "    <tr>\n",
       "      <th>3</th>\n",
       "      <td>knn5</td>\n",
       "      <td>1.211560</td>\n",
       "      <td>0.938886</td>\n",
       "      <td>0.970049</td>\n",
       "      <td>0.510465</td>\n",
       "      <td>0.974199</td>\n",
       "      <td>0.630402</td>\n",
       "    </tr>\n",
       "    <tr>\n",
       "      <th>4</th>\n",
       "      <td>knn7</td>\n",
       "      <td>1.169973</td>\n",
       "      <td>0.855711</td>\n",
       "      <td>0.932426</td>\n",
       "      <td>0.510465</td>\n",
       "      <td>0.974199</td>\n",
       "      <td>0.586395</td>\n",
       "    </tr>\n",
       "    <tr>\n",
       "      <th>5</th>\n",
       "      <td>knn9</td>\n",
       "      <td>1.182485</td>\n",
       "      <td>0.815767</td>\n",
       "      <td>0.939294</td>\n",
       "      <td>0.511628</td>\n",
       "      <td>0.975653</td>\n",
       "      <td>0.642605</td>\n",
       "    </tr>\n",
       "    <tr>\n",
       "      <th>6</th>\n",
       "      <td>knn10</td>\n",
       "      <td>1.176730</td>\n",
       "      <td>0.799303</td>\n",
       "      <td>0.936118</td>\n",
       "      <td>0.511628</td>\n",
       "      <td>0.975653</td>\n",
       "      <td>0.686429</td>\n",
       "    </tr>\n",
       "    <tr>\n",
       "      <th>7</th>\n",
       "      <td>knn15</td>\n",
       "      <td>1.147441</td>\n",
       "      <td>0.767063</td>\n",
       "      <td>0.907732</td>\n",
       "      <td>0.511628</td>\n",
       "      <td>0.975653</td>\n",
       "      <td>0.733530</td>\n",
       "    </tr>\n",
       "    <tr>\n",
       "      <th>8</th>\n",
       "      <td>knn20</td>\n",
       "      <td>1.148008</td>\n",
       "      <td>0.761580</td>\n",
       "      <td>0.908864</td>\n",
       "      <td>0.511628</td>\n",
       "      <td>0.975653</td>\n",
       "      <td>0.694752</td>\n",
       "    </tr>\n",
       "    <tr>\n",
       "      <th>9</th>\n",
       "      <td>knn25</td>\n",
       "      <td>1.147672</td>\n",
       "      <td>0.761588</td>\n",
       "      <td>0.908587</td>\n",
       "      <td>0.511628</td>\n",
       "      <td>0.975653</td>\n",
       "      <td>0.668227</td>\n",
       "    </tr>\n",
       "    <tr>\n",
       "      <th>10</th>\n",
       "      <td>knn30</td>\n",
       "      <td>1.147672</td>\n",
       "      <td>0.761588</td>\n",
       "      <td>0.908587</td>\n",
       "      <td>0.511628</td>\n",
       "      <td>0.975653</td>\n",
       "      <td>0.692606</td>\n",
       "    </tr>\n",
       "    <tr>\n",
       "      <th>11</th>\n",
       "      <td>knn40</td>\n",
       "      <td>1.147672</td>\n",
       "      <td>0.761588</td>\n",
       "      <td>0.908587</td>\n",
       "      <td>0.511628</td>\n",
       "      <td>0.975653</td>\n",
       "      <td>0.737083</td>\n",
       "    </tr>\n",
       "    <tr>\n",
       "      <th>12</th>\n",
       "      <td>knn50</td>\n",
       "      <td>1.147672</td>\n",
       "      <td>0.761588</td>\n",
       "      <td>0.908587</td>\n",
       "      <td>0.511628</td>\n",
       "      <td>0.975653</td>\n",
       "      <td>0.680340</td>\n",
       "    </tr>\n",
       "  </tbody>\n",
       "</table>\n",
       "</div>"
      ],
      "text/plain": [
       "   recommender  RMSE validation  RMSE training  MAE validation  Precision  \\\n",
       "0   popularity         1.174006       0.000000        0.904045   0.512791   \n",
       "1         knn1         1.257531       1.581307        0.998630   0.510465   \n",
       "2         knn3         1.224187       1.089195        0.975748   0.508140   \n",
       "3         knn5         1.211560       0.938886        0.970049   0.510465   \n",
       "4         knn7         1.169973       0.855711        0.932426   0.510465   \n",
       "5         knn9         1.182485       0.815767        0.939294   0.511628   \n",
       "6        knn10         1.176730       0.799303        0.936118   0.511628   \n",
       "7        knn15         1.147441       0.767063        0.907732   0.511628   \n",
       "8        knn20         1.148008       0.761580        0.908864   0.511628   \n",
       "9        knn25         1.147672       0.761588        0.908587   0.511628   \n",
       "10       knn30         1.147672       0.761588        0.908587   0.511628   \n",
       "11       knn40         1.147672       0.761588        0.908587   0.511628   \n",
       "12       knn50         1.147672       0.761588        0.908587   0.511628   \n",
       "\n",
       "      Recall  computation time  \n",
       "0   0.976283          0.000302  \n",
       "1   0.974409          0.644761  \n",
       "2   0.971583          0.666764  \n",
       "3   0.974199          0.630402  \n",
       "4   0.974199          0.586395  \n",
       "5   0.975653          0.642605  \n",
       "6   0.975653          0.686429  \n",
       "7   0.975653          0.733530  \n",
       "8   0.975653          0.694752  \n",
       "9   0.975653          0.668227  \n",
       "10  0.975653          0.692606  \n",
       "11  0.975653          0.737083  \n",
       "12  0.975653          0.680340  "
      ]
     },
     "execution_count": 117,
     "metadata": {},
     "output_type": "execute_result"
    }
   ],
   "source": [
    "quantitative_comparison_v2(RMSE, M, recommenders_ub_knn, prop=0.7, nrep=4)"
   ]
  },
  {
   "cell_type": "code",
   "execution_count": 118,
   "metadata": {},
   "outputs": [
    {
     "name": "stderr",
     "output_type": "stream",
     "text": [
      "/home/ensai/Documents/Cours_ENSAI_3A/Rec_systems/TP/repo/mine/knn2.py:60: RuntimeWarning: Mean of empty slice\n",
      "  scores[id_user] = np.nanmean(M_train[:, id_item])\n"
     ]
    },
    {
     "data": {
      "text/html": [
       "<div>\n",
       "<style scoped>\n",
       "    .dataframe tbody tr th:only-of-type {\n",
       "        vertical-align: middle;\n",
       "    }\n",
       "\n",
       "    .dataframe tbody tr th {\n",
       "        vertical-align: top;\n",
       "    }\n",
       "\n",
       "    .dataframe thead th {\n",
       "        text-align: right;\n",
       "    }\n",
       "</style>\n",
       "<table border=\"1\" class=\"dataframe\">\n",
       "  <thead>\n",
       "    <tr style=\"text-align: right;\">\n",
       "      <th></th>\n",
       "      <th>recommender</th>\n",
       "      <th>RMSE validation</th>\n",
       "      <th>RMSE training</th>\n",
       "      <th>MAE validation</th>\n",
       "      <th>Precision</th>\n",
       "      <th>Recall</th>\n",
       "      <th>computation time</th>\n",
       "    </tr>\n",
       "  </thead>\n",
       "  <tbody>\n",
       "    <tr>\n",
       "      <th>0</th>\n",
       "      <td>knn2_1</td>\n",
       "      <td>NaN</td>\n",
       "      <td>1.553471</td>\n",
       "      <td>NaN</td>\n",
       "      <td>0.502960</td>\n",
       "      <td>0.973707</td>\n",
       "      <td>0.514543</td>\n",
       "    </tr>\n",
       "    <tr>\n",
       "      <th>1</th>\n",
       "      <td>knn2_3</td>\n",
       "      <td>NaN</td>\n",
       "      <td>1.158077</td>\n",
       "      <td>NaN</td>\n",
       "      <td>0.502960</td>\n",
       "      <td>0.973707</td>\n",
       "      <td>0.538204</td>\n",
       "    </tr>\n",
       "    <tr>\n",
       "      <th>2</th>\n",
       "      <td>knn2_5</td>\n",
       "      <td>NaN</td>\n",
       "      <td>0.985296</td>\n",
       "      <td>NaN</td>\n",
       "      <td>0.501823</td>\n",
       "      <td>0.972571</td>\n",
       "      <td>0.576488</td>\n",
       "    </tr>\n",
       "    <tr>\n",
       "      <th>3</th>\n",
       "      <td>knn2_7</td>\n",
       "      <td>NaN</td>\n",
       "      <td>0.903037</td>\n",
       "      <td>NaN</td>\n",
       "      <td>0.501797</td>\n",
       "      <td>0.972738</td>\n",
       "      <td>0.608826</td>\n",
       "    </tr>\n",
       "    <tr>\n",
       "      <th>4</th>\n",
       "      <td>knn2_9</td>\n",
       "      <td>NaN</td>\n",
       "      <td>0.834902</td>\n",
       "      <td>NaN</td>\n",
       "      <td>0.504123</td>\n",
       "      <td>0.974676</td>\n",
       "      <td>0.668047</td>\n",
       "    </tr>\n",
       "    <tr>\n",
       "      <th>5</th>\n",
       "      <td>knn2_10</td>\n",
       "      <td>NaN</td>\n",
       "      <td>0.811545</td>\n",
       "      <td>NaN</td>\n",
       "      <td>0.502986</td>\n",
       "      <td>0.973540</td>\n",
       "      <td>0.648026</td>\n",
       "    </tr>\n",
       "    <tr>\n",
       "      <th>6</th>\n",
       "      <td>knn2_15</td>\n",
       "      <td>NaN</td>\n",
       "      <td>0.764975</td>\n",
       "      <td>NaN</td>\n",
       "      <td>0.502960</td>\n",
       "      <td>0.973707</td>\n",
       "      <td>0.592099</td>\n",
       "    </tr>\n",
       "    <tr>\n",
       "      <th>7</th>\n",
       "      <td>knn2_20</td>\n",
       "      <td>NaN</td>\n",
       "      <td>0.757378</td>\n",
       "      <td>NaN</td>\n",
       "      <td>0.502960</td>\n",
       "      <td>0.973707</td>\n",
       "      <td>0.614794</td>\n",
       "    </tr>\n",
       "    <tr>\n",
       "      <th>8</th>\n",
       "      <td>knn2_25</td>\n",
       "      <td>NaN</td>\n",
       "      <td>0.756952</td>\n",
       "      <td>NaN</td>\n",
       "      <td>0.502960</td>\n",
       "      <td>0.973707</td>\n",
       "      <td>0.566885</td>\n",
       "    </tr>\n",
       "    <tr>\n",
       "      <th>9</th>\n",
       "      <td>knn2_30</td>\n",
       "      <td>NaN</td>\n",
       "      <td>0.754273</td>\n",
       "      <td>NaN</td>\n",
       "      <td>0.502960</td>\n",
       "      <td>0.973707</td>\n",
       "      <td>0.636248</td>\n",
       "    </tr>\n",
       "  </tbody>\n",
       "</table>\n",
       "</div>"
      ],
      "text/plain": [
       "  recommender  RMSE validation  RMSE training  MAE validation  Precision  \\\n",
       "0      knn2_1              NaN       1.553471             NaN   0.502960   \n",
       "1      knn2_3              NaN       1.158077             NaN   0.502960   \n",
       "2      knn2_5              NaN       0.985296             NaN   0.501823   \n",
       "3      knn2_7              NaN       0.903037             NaN   0.501797   \n",
       "4      knn2_9              NaN       0.834902             NaN   0.504123   \n",
       "5     knn2_10              NaN       0.811545             NaN   0.502986   \n",
       "6     knn2_15              NaN       0.764975             NaN   0.502960   \n",
       "7     knn2_20              NaN       0.757378             NaN   0.502960   \n",
       "8     knn2_25              NaN       0.756952             NaN   0.502960   \n",
       "9     knn2_30              NaN       0.754273             NaN   0.502960   \n",
       "\n",
       "     Recall  computation time  \n",
       "0  0.973707          0.514543  \n",
       "1  0.973707          0.538204  \n",
       "2  0.972571          0.576488  \n",
       "3  0.972738          0.608826  \n",
       "4  0.974676          0.668047  \n",
       "5  0.973540          0.648026  \n",
       "6  0.973707          0.592099  \n",
       "7  0.973707          0.614794  \n",
       "8  0.973707          0.566885  \n",
       "9  0.973707          0.636248  "
      ]
     },
     "execution_count": 118,
     "metadata": {},
     "output_type": "execute_result"
    }
   ],
   "source": [
    "quantitative_comparison_v2(RMSE, M[:, 1:], recommenders_ib_knn, prop=0.7, nrep=4)"
   ]
  },
  {
   "cell_type": "code",
   "execution_count": 119,
   "metadata": {},
   "outputs": [
    {
     "data": {
      "text/html": [
       "<div>\n",
       "<style scoped>\n",
       "    .dataframe tbody tr th:only-of-type {\n",
       "        vertical-align: middle;\n",
       "    }\n",
       "\n",
       "    .dataframe tbody tr th {\n",
       "        vertical-align: top;\n",
       "    }\n",
       "\n",
       "    .dataframe thead th {\n",
       "        text-align: right;\n",
       "    }\n",
       "</style>\n",
       "<table border=\"1\" class=\"dataframe\">\n",
       "  <thead>\n",
       "    <tr style=\"text-align: right;\">\n",
       "      <th></th>\n",
       "      <th>recommender</th>\n",
       "      <th>RMSE validation</th>\n",
       "      <th>RMSE training</th>\n",
       "      <th>MAE validation</th>\n",
       "      <th>Precision</th>\n",
       "      <th>Recall</th>\n",
       "      <th>computation time</th>\n",
       "    </tr>\n",
       "  </thead>\n",
       "  <tbody>\n",
       "    <tr>\n",
       "      <th>0</th>\n",
       "      <td>svd3</td>\n",
       "      <td>3.303616</td>\n",
       "      <td>2.292312e+00</td>\n",
       "      <td>3.079190</td>\n",
       "      <td>0.508721</td>\n",
       "      <td>0.974704</td>\n",
       "      <td>0.000725</td>\n",
       "    </tr>\n",
       "    <tr>\n",
       "      <th>1</th>\n",
       "      <td>svd5</td>\n",
       "      <td>3.557840</td>\n",
       "      <td>1.918125e+00</td>\n",
       "      <td>3.316925</td>\n",
       "      <td>0.501771</td>\n",
       "      <td>0.970191</td>\n",
       "      <td>0.000772</td>\n",
       "    </tr>\n",
       "    <tr>\n",
       "      <th>2</th>\n",
       "      <td>svd8</td>\n",
       "      <td>3.726987</td>\n",
       "      <td>1.466084e+00</td>\n",
       "      <td>3.500544</td>\n",
       "      <td>0.502933</td>\n",
       "      <td>0.971612</td>\n",
       "      <td>0.000817</td>\n",
       "    </tr>\n",
       "    <tr>\n",
       "      <th>3</th>\n",
       "      <td>svd10</td>\n",
       "      <td>3.811646</td>\n",
       "      <td>1.196566e+00</td>\n",
       "      <td>3.600176</td>\n",
       "      <td>0.500661</td>\n",
       "      <td>0.969340</td>\n",
       "      <td>0.000868</td>\n",
       "    </tr>\n",
       "    <tr>\n",
       "      <th>4</th>\n",
       "      <td>svd20</td>\n",
       "      <td>3.954145</td>\n",
       "      <td>3.923689e-01</td>\n",
       "      <td>3.787780</td>\n",
       "      <td>0.499498</td>\n",
       "      <td>0.968243</td>\n",
       "      <td>0.000742</td>\n",
       "    </tr>\n",
       "    <tr>\n",
       "      <th>5</th>\n",
       "      <td>svd50</td>\n",
       "      <td>3.956557</td>\n",
       "      <td>9.220157e-15</td>\n",
       "      <td>3.801471</td>\n",
       "      <td>0.501823</td>\n",
       "      <td>0.970530</td>\n",
       "      <td>0.000659</td>\n",
       "    </tr>\n",
       "    <tr>\n",
       "      <th>6</th>\n",
       "      <td>svd100</td>\n",
       "      <td>3.956557</td>\n",
       "      <td>9.220157e-15</td>\n",
       "      <td>3.801471</td>\n",
       "      <td>0.501823</td>\n",
       "      <td>0.970530</td>\n",
       "      <td>0.000862</td>\n",
       "    </tr>\n",
       "    <tr>\n",
       "      <th>7</th>\n",
       "      <td>svd200</td>\n",
       "      <td>3.956557</td>\n",
       "      <td>9.220157e-15</td>\n",
       "      <td>3.801471</td>\n",
       "      <td>0.501823</td>\n",
       "      <td>0.970530</td>\n",
       "      <td>0.000818</td>\n",
       "    </tr>\n",
       "    <tr>\n",
       "      <th>8</th>\n",
       "      <td>svd400</td>\n",
       "      <td>3.956557</td>\n",
       "      <td>9.220157e-15</td>\n",
       "      <td>3.801471</td>\n",
       "      <td>0.501823</td>\n",
       "      <td>0.970530</td>\n",
       "      <td>0.000883</td>\n",
       "    </tr>\n",
       "  </tbody>\n",
       "</table>\n",
       "</div>"
      ],
      "text/plain": [
       "  recommender  RMSE validation  RMSE training  MAE validation  Precision  \\\n",
       "0        svd3         3.303616   2.292312e+00        3.079190   0.508721   \n",
       "1        svd5         3.557840   1.918125e+00        3.316925   0.501771   \n",
       "2        svd8         3.726987   1.466084e+00        3.500544   0.502933   \n",
       "3       svd10         3.811646   1.196566e+00        3.600176   0.500661   \n",
       "4       svd20         3.954145   3.923689e-01        3.787780   0.499498   \n",
       "5       svd50         3.956557   9.220157e-15        3.801471   0.501823   \n",
       "6      svd100         3.956557   9.220157e-15        3.801471   0.501823   \n",
       "7      svd200         3.956557   9.220157e-15        3.801471   0.501823   \n",
       "8      svd400         3.956557   9.220157e-15        3.801471   0.501823   \n",
       "\n",
       "     Recall  computation time  \n",
       "0  0.974704          0.000725  \n",
       "1  0.970191          0.000772  \n",
       "2  0.971612          0.000817  \n",
       "3  0.969340          0.000868  \n",
       "4  0.968243          0.000742  \n",
       "5  0.970530          0.000659  \n",
       "6  0.970530          0.000862  \n",
       "7  0.970530          0.000818  \n",
       "8  0.970530          0.000883  "
      ]
     },
     "execution_count": 119,
     "metadata": {},
     "output_type": "execute_result"
    }
   ],
   "source": [
    "quantitative_comparison_v2(RMSE, M, recommenders_svd, prop=0.7, nrep=4)"
   ]
  },
  {
   "cell_type": "code",
   "execution_count": null,
   "metadata": {},
   "outputs": [],
   "source": []
  }
 ],
 "metadata": {
  "jupytext": {
   "cell_markers": "\"\"\"",
   "encoding": "# -*- coding: utf-8 -*-",
   "formats": "ipynb,py:percent"
  },
  "kernelspec": {
   "display_name": "Python 3",
   "language": "python",
   "name": "python3"
  },
  "language_info": {
   "codemirror_mode": {
    "name": "ipython",
    "version": 3
   },
   "file_extension": ".py",
   "mimetype": "text/x-python",
   "name": "python",
   "nbconvert_exporter": "python",
   "pygments_lexer": "ipython3",
   "version": "3.8.10"
  }
 },
 "nbformat": 4,
 "nbformat_minor": 4
}
