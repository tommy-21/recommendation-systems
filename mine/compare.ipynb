{
 "cells": [
  {
   "cell_type": "markdown",
   "metadata": {
    "cell_marker": "\"\"\""
   },
   "source": [
    "# Évaluation qualitative\n",
    "> Comparons les différents algorithmes en terme de qualité de prédiction et de temps de calcul"
   ]
  },
  {
   "cell_type": "markdown",
   "metadata": {
    "cell_marker": "\"\"\""
   },
   "source": [
    "# Comparaison entre algorithmes\n",
    "\n",
    "Charger les bibliothèques et les données"
   ]
  },
  {
   "cell_type": "code",
   "execution_count": 1,
   "metadata": {
    "lines_to_next_cell": 2,
    "tags": []
   },
   "outputs": [
    {
     "data": {
      "application/javascript": [
       "IPython.notebook.set_autosave_interval(0)"
      ]
     },
     "metadata": {},
     "output_type": "display_data"
    },
    {
     "name": "stdout",
     "output_type": "stream",
     "text": [
      "Autosave disabled\n"
     ]
    }
   ],
   "source": [
    "%autosave 0\n",
    "%reload_ext autoreload\n",
    "%autoreload 2\n",
    "\n",
    "from data import *\n",
    "import popularity\n",
    "import knn\n",
    "import svd\n",
    "#import als\n",
    "\n",
    "from eval import *"
   ]
  },
  {
   "cell_type": "code",
   "execution_count": 2,
   "metadata": {
    "tags": []
   },
   "outputs": [],
   "source": [
    "import sys\n",
    "sys.path\n",
    "import data"
   ]
  },
  {
   "cell_type": "code",
   "execution_count": 5,
   "metadata": {
    "tags": []
   },
   "outputs": [
    {
     "data": {
      "text/plain": [
       "((50, 40), 389)"
      ]
     },
     "execution_count": 5,
     "metadata": {},
     "output_type": "execute_result"
    }
   ],
   "source": [
    "M = load_data(tiny=True)\n",
    "M.shape, np.sum(~np.isnan(M))"
   ]
  },
  {
   "cell_type": "code",
   "execution_count": 23,
   "metadata": {
    "tags": []
   },
   "outputs": [
    {
     "name": "stdout",
     "output_type": "stream",
     "text": [
      "[nan  4. nan nan nan nan nan nan nan nan  2. nan nan  4.  4. nan nan nan\n",
      " nan  3. nan nan nan nan nan  4. nan nan nan nan nan nan nan nan nan nan\n",
      " nan nan nan nan]\n"
     ]
    }
   ],
   "source": [
    "print(M[1])"
   ]
  },
  {
   "cell_type": "code",
   "execution_count": 40,
   "metadata": {
    "tags": []
   },
   "outputs": [
    {
     "name": "stderr",
     "output_type": "stream",
     "text": [
      "/opt/tljh/user/lib/python3.7/site-packages/ipykernel_launcher.py:1: RuntimeWarning: Mean of empty slice\n",
      "  \"\"\"Entry point for launching an IPython kernel.\n"
     ]
    },
    {
     "data": {
      "text/plain": [
       "40"
      ]
     },
     "execution_count": 40,
     "metadata": {},
     "output_type": "execute_result"
    }
   ],
   "source": [
    "scores = np.nanmean(M, axis=0)\n",
    "len(scores)"
   ]
  },
  {
   "cell_type": "code",
   "execution_count": 43,
   "metadata": {
    "tags": []
   },
   "outputs": [
    {
     "data": {
      "text/plain": [
       "array([       nan, 4.07407407, 2.85714286, 3.25      , 4.08333333,\n",
       "       2.83333333, 5.        , 3.90909091, 4.06666667, 4.23809524,\n",
       "       3.2       , 3.52631579, 4.58823529, 3.76470588, 4.        ,\n",
       "       4.25      , 4.5       , 3.        , 3.        , 4.14285714,\n",
       "       2.66666667, 2.71428571, 4.5       , 4.33333333, 3.07692308,\n",
       "       3.43478261, 4.        , 3.        , 4.10526316, 2.5       ,\n",
       "       4.        , 3.85714286, 4.09090909, 3.6       , 2.        ,\n",
       "       3.        , 2.        , 1.5       , 2.5       , 3.71428571])"
      ]
     },
     "execution_count": 43,
     "metadata": {},
     "output_type": "execute_result"
    }
   ],
   "source": [
    "scores"
   ]
  },
  {
   "cell_type": "code",
   "execution_count": 29,
   "metadata": {
    "tags": []
   },
   "outputs": [
    {
     "data": {
      "text/plain": [
       "(array([ 0,  2,  3,  4,  5,  6,  7,  8,  9, 11, 12, 15, 16, 17, 18, 20, 21,\n",
       "        22, 23, 24, 26, 27, 28, 29, 30, 31, 32, 33, 34, 35, 36, 37, 38, 39]),)"
      ]
     },
     "execution_count": 29,
     "metadata": {},
     "output_type": "execute_result"
    }
   ],
   "source": [
    "np.where(np.isnan(M[1, :]))"
   ]
  },
  {
   "cell_type": "code",
   "execution_count": 44,
   "metadata": {
    "tags": []
   },
   "outputs": [
    {
     "data": {
      "text/plain": [
       "0"
      ]
     },
     "execution_count": 44,
     "metadata": {},
     "output_type": "execute_result"
    }
   ],
   "source": [
    "import popularity \n",
    "popularity.recommend(M, 12, False)"
   ]
  },
  {
   "cell_type": "markdown",
   "metadata": {
    "cell_marker": "\"\"\""
   },
   "source": [
    "Liste d'algorithmes à comparer"
   ]
  },
  {
   "cell_type": "code",
   "execution_count": null,
   "metadata": {
    "lines_to_next_cell": 2
   },
   "outputs": [],
   "source": [
    "recommenders = [\n",
    "    {\"fn\": popularity.complete, \"label\": \"popularity\"},\n",
    "    {\"fn\": lambda M_train: knn.complete(M_train, k=10), \"label\": \"knn10\"},\n",
    "    {\"fn\": lambda M_train: svd.complete(M_train, k=10), \"label\": \"svd0_10\"},\n",
    "    {\"fn\": lambda M_train: svd.complete(M_train, k=20), \"label\": \"svd0_20\"},\n",
    "#    {\"fn\": lambda M_train: svd.complete(M_train, k=10, replaceNA_fn=replaceNA_with_mean), \"label\": \"svdMean_10\"},\n",
    "#    {\"fn\": lambda M_train: svd.complete(M_train, k=20, replaceNA_fn=replaceNA_with_mean), \"label\": \"svdMean_20\"},\n",
    "#    {\"fn\": lambda M_train: als.complete(M_train, k=10, lambd=10**-1, n_iter=5), \"label\": \"als10\"},\n",
    "#    {\"fn\": lambda M_train: als.complete(M_train, k=40, lambd=10**-1, n_iter=5), \"label\": \"als40\"},\n",
    "#    {\"fn\": lambda M_train: complete_softImpute(M_train, lambd=10**+1, n_iter=20), \"label\": \"softImpute10\"},\n",
    "#    {\"fn\": lambda M_train: complete_softImpute(M_train, lambd=10**0, n_iter=20), \"label\": \"softImpute1\"},\n",
    "#    {\"fn\": lambda M_train: complete_softImpute(M_train, lambd=10**-1, n_iter=20), \"label\": \"softImpute0_1\"},\n",
    "    ]"
   ]
  },
  {
   "cell_type": "markdown",
   "metadata": {
    "cell_marker": "\"\"\""
   },
   "source": [
    "Comparaison"
   ]
  },
  {
   "cell_type": "code",
   "execution_count": null,
   "metadata": {},
   "outputs": [],
   "source": [
    "quantitative_comparison(RMSE, M, recommenders, prop=0.8, nrep=3)"
   ]
  },
  {
   "cell_type": "markdown",
   "metadata": {
    "cell_marker": "\"\"\""
   },
   "source": [
    "# Paramétrage de méthode basée sur SVD\n",
    "\n",
    "Charger les bibliothèques et les données"
   ]
  },
  {
   "cell_type": "code",
   "execution_count": null,
   "metadata": {},
   "outputs": [],
   "source": [
    "M = load_data(tiny=False)\n",
    "M.shape, np.sum(~np.isnan(M))"
   ]
  },
  {
   "cell_type": "markdown",
   "metadata": {
    "cell_marker": "\"\"\""
   },
   "source": [
    "On fait varier $k$. Observe-t-on un phénomène de sur-apprentissage ?"
   ]
  },
  {
   "cell_type": "code",
   "execution_count": null,
   "metadata": {
    "lines_to_next_cell": 2
   },
   "outputs": [],
   "source": [
    "recommenders = [\n",
    "#    {\"fn\": lambda M_train: knn.complete(M_train, k=10), \"label\": \"knn10\"},\n",
    "    {\"fn\": lambda M_train: svd.complete(M_train, k=10), \"label\": \"svd10\"},\n",
    "    {\"fn\": lambda M_train: svd.complete(M_train, k=20), \"label\": \"svd20\"},\n",
    "    {\"fn\": lambda M_train: svd.complete(M_train, k=50), \"label\": \"svd50\"},\n",
    "    {\"fn\": lambda M_train: svd.complete(M_train, k=100), \"label\": \"svd100\"},\n",
    "    {\"fn\": lambda M_train: svd.complete(M_train, k=200), \"label\": \"svd200\"},\n",
    "    {\"fn\": lambda M_train: svd.complete(M_train, k=400), \"label\": \"svd400\"},\n",
    "    ]\n",
    "res_fill_with_zeros = quantitative_comparison(RMSE, M, recommenders, prop=0.8, nrep=4)\n",
    "res_fill_with_zeros"
   ]
  },
  {
   "cell_type": "code",
   "execution_count": null,
   "metadata": {},
   "outputs": [],
   "source": []
  }
 ],
 "metadata": {
  "jupytext": {
   "cell_markers": "\"\"\"",
   "encoding": "# -*- coding: utf-8 -*-",
   "formats": "ipynb,py:percent"
  },
  "kernelspec": {
   "display_name": "Python 3",
   "language": "python",
   "name": "python3"
  },
  "language_info": {
   "codemirror_mode": {
    "name": "ipython",
    "version": 3
   },
   "file_extension": ".py",
   "mimetype": "text/x-python",
   "name": "python",
   "nbconvert_exporter": "python",
   "pygments_lexer": "ipython3",
   "version": "3.7.10"
  }
 },
 "nbformat": 4,
 "nbformat_minor": 4
}
