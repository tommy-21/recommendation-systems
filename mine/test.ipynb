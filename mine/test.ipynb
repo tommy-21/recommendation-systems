{
 "cells": [
  {
   "cell_type": "markdown",
   "metadata": {
    "cell_marker": "\"\"\""
   },
   "source": [
    "# Test\n",
    "\n",
    "> Ce fichier permet de tester les différentes fonctions implémentées et vérifier qu'elles fonctionnent correctement"
   ]
  },
  {
   "cell_type": "markdown",
   "metadata": {
    "cell_marker": "\"\"\""
   },
   "source": [
    "Charger les bibliothèques et les données"
   ]
  },
  {
   "cell_type": "code",
   "execution_count": 1,
   "metadata": {},
   "outputs": [
    {
     "data": {
      "application/javascript": [
       "IPython.notebook.set_autosave_interval(0)"
      ]
     },
     "metadata": {},
     "output_type": "display_data"
    },
    {
     "name": "stdout",
     "output_type": "stream",
     "text": [
      "Autosave disabled\n"
     ]
    }
   ],
   "source": [
    "%autosave 0\n",
    "%reload_ext autoreload\n",
    "%autoreload 2"
   ]
  },
  {
   "cell_type": "markdown",
   "metadata": {
    "cell_marker": "\"\"\""
   },
   "source": [
    "# load_data"
   ]
  },
  {
   "cell_type": "code",
   "execution_count": null,
   "metadata": {},
   "outputs": [],
   "source": [
    "from data import *\n",
    "\n",
    "M = load_data(tiny=True)\n",
    "\n",
    "assert M.shape == (50,40)\n",
    "assert np.sum(~np.isnan(M)) == 389\n",
    "print(movie_title(0))\n",
    "print(movie_title(np.arange(4)))"
   ]
  },
  {
   "cell_type": "markdown",
   "metadata": {
    "cell_marker": "\"\"\""
   },
   "source": [
    "# popularity"
   ]
  },
  {
   "cell_type": "code",
   "execution_count": null,
   "metadata": {
    "lines_to_next_cell": 2
   },
   "outputs": [],
   "source": [
    "from data import *\n",
    "import popularity\n",
    "\n",
    "M = load_data(tiny=True)\n",
    "\n",
    "# note moyenne par film\n",
    "print(np.nanmean(M, axis=1))\n",
    "\n",
    "# utilisateur pris au hasard\n",
    "rec = popularity.recommend(M, 3, new=True)\n",
    "print(rec)\n",
    "print(movie_title(rec))\n",
    "assert np.isnan(M[3, rec])\n",
    "\n",
    "# utilisateur ayant déjà vu le film le plus populaire\n",
    "rec = popularity.recommend(M, 5, new=True)\n",
    "print(rec)\n",
    "print(movie_title(rec))\n",
    "assert np.isnan(M[5, rec])\n",
    "\n",
    "# complétion de toute la matrice\n",
    "M_completed = popularity.complete(M)\n",
    "assert np.all(~np.isnan(M_completed))\n",
    "assert np.all(M_completed[~np.isnan(M)] == M[~np.isnan(M)])"
   ]
  },
  {
   "cell_type": "markdown",
   "metadata": {
    "cell_marker": "\"\"\""
   },
   "source": [
    "# knn"
   ]
  },
  {
   "cell_type": "code",
   "execution_count": null,
   "metadata": {},
   "outputs": [],
   "source": [
    "from data import *\n",
    "import knn\n",
    "\n",
    "M = load_data(tiny=True)\n",
    "\n",
    "# utilisateur pris au hasard\n",
    "rec = knn.recommend(M, 3, new=True, k=10)\n",
    "print(rec)\n",
    "print(movie_title(rec))\n",
    "assert np.isnan(M[3, rec])\n",
    "\n",
    "\n",
    "# complétion de toute la matrice\n",
    "M_completed = knn.complete(M, k=10)\n",
    "assert np.all(~np.isnan(M_completed))"
   ]
  },
  {
   "cell_type": "markdown",
   "metadata": {
    "cell_marker": "\"\"\""
   },
   "source": [
    "# svd"
   ]
  },
  {
   "cell_type": "code",
   "execution_count": null,
   "metadata": {
    "lines_to_next_cell": 2
   },
   "outputs": [],
   "source": [
    "from data import *\n",
    "import svd\n",
    "from eval import *\n",
    "import matplotlib.pyplot as plt\n",
    "\n",
    "M = load_data(tiny=True)\n",
    "\n",
    "# utilisateur pris au hasard\n",
    "rec = svd.recommend(M, 3, new=True, k=10)\n",
    "print(rec)\n",
    "print(movie_title(rec))\n",
    "assert np.isnan(M[3, rec])\n",
    "\n",
    "# complétion de toute la matrice\n",
    "M_completed = svd.complete(M, k=10)\n",
    "assert np.all(~np.isnan(M_completed))\n",
    "\n",
    "# erreur (d'entrainement) diminue quand k augmente\n",
    "err = [RMSE(svd.complete(M, k), M) for k in range(40)]\n",
    "\n",
    "plt.plot(err)\n",
    "plt.grid()\n",
    "\n",
    "# erreur (d'entrainement) nulle pour k=min(dim())\n",
    "M_completed = svd.complete(M, k=min(M.shape[0], M.shape[1]))\n",
    "assert RMSE(M_completed, M) < 10**-6"
   ]
  },
  {
   "cell_type": "markdown",
   "metadata": {
    "cell_marker": "\"\"\"",
    "lines_to_next_cell": 2
   },
   "source": [
    "# ALS"
   ]
  },
  {
   "cell_type": "code",
   "execution_count": null,
   "metadata": {
    "lines_to_next_cell": 2
   },
   "outputs": [],
   "source": [
    "from data import *\n",
    "import als\n",
    "from eval import *\n",
    "import matplotlib.pyplot as plt\n",
    "\n",
    "M = load_data(tiny=True)\n",
    "\n",
    "# utilisateur pris au hasard\n",
    "rec = als.recommend(M, 3, new=True, k=10)\n",
    "print(rec)\n",
    "print(movie_title(rec))\n",
    "assert np.isnan(M[3, rec])\n",
    "\n",
    "# complétion de toute la matrice\n",
    "M_completed = als.complete(M, k=10)\n",
    "assert np.all(~np.isnan(M_completed))\n"
   ]
  },
  {
   "cell_type": "markdown",
   "metadata": {
    "cell_marker": "\"\"\""
   },
   "source": [
    "# erreur (d'entrainement) diminue quand k augmente"
   ]
  },
  {
   "cell_type": "code",
   "execution_count": null,
   "metadata": {},
   "outputs": [],
   "source": [
    "err = [RMSE(als.complete(M, k, n_iter=5), M) for k in range(40)]\n",
    "\n",
    "print(err)\n",
    "plt.plot(err)\n",
    "plt.grid()"
   ]
  },
  {
   "cell_type": "markdown",
   "metadata": {
    "cell_marker": "\"\"\""
   },
   "source": [
    "# erreur (d'entrainement) diminue quand nombre d'itérations augmente"
   ]
  },
  {
   "cell_type": "code",
   "execution_count": null,
   "metadata": {},
   "outputs": [],
   "source": [
    "err20 = [RMSE(als.complete(M, k, n_iter=20), M) for k in range(40)]\n",
    "\n",
    "print(err20)\n",
    "plt.plot(err, col=1, label='5 iterations')\n",
    "plt.plot(err20, col=2, label='20 iterations')\n",
    "plt.legend()\n",
    "plt.grid()"
   ]
  },
  {
   "cell_type": "markdown",
   "metadata": {
    "cell_marker": "\"\"\""
   },
   "source": [
    "# erreur (d'entrainement) nulle pour k=min(dim()) et lambda très petit"
   ]
  },
  {
   "cell_type": "code",
   "execution_count": null,
   "metadata": {},
   "outputs": [],
   "source": [
    "M_completed = als.complete(M, k=min(M.shape[0], M.shape[1]), n_iter=1, lambd=10**-8)\n",
    "RMSE(M_completed, M)\n",
    "M_completed = als.complete(M, k=min(M.shape[0], M.shape[1]), n_iter=3, lambd=10**-8)\n",
    "RMSE(M_completed, M)\n",
    "M_completed = als.complete(M, k=min(M.shape[0], M.shape[1]), n_iter=10, lambd=10**-8)\n",
    "RMSE(M_completed, M)\n",
    "assert RMSE(M_completed, M) <10**-6\n",
    "\n",
    "\n",
    "\n",
    "\n",
    "\n"
   ]
  },
  {
   "cell_type": "markdown",
   "metadata": {
    "cell_marker": "\"\"\"",
    "lines_to_next_cell": 2
   },
   "source": [
    "# eval"
   ]
  },
  {
   "cell_type": "code",
   "execution_count": null,
   "metadata": {},
   "outputs": [],
   "source": [
    "from data import *\n",
    "from eval import *\n",
    "import popularity\n",
    "import knn\n",
    "import svd\n",
    "\n",
    "M = load_data(tiny=True)"
   ]
  },
  {
   "cell_type": "markdown",
   "metadata": {
    "cell_marker": "\"\"\""
   },
   "source": [
    "# get_train"
   ]
  },
  {
   "cell_type": "code",
   "execution_count": null,
   "metadata": {},
   "outputs": [],
   "source": [
    "M_train, M_validation = get_train_val(M, 0.9)\n",
    "assert np.all(np.sum(np.isnan(M_train), axis=0))"
   ]
  },
  {
   "cell_type": "markdown",
   "metadata": {
    "cell_marker": "\"\"\""
   },
   "source": [
    "# RMSE"
   ]
  },
  {
   "cell_type": "code",
   "execution_count": null,
   "metadata": {},
   "outputs": [],
   "source": [
    "print(M[0, :4])\n",
    "assert np.sum(~np.isnan(M)) == 389\n",
    "M_comp = M.copy()\n",
    "M_comp[0, :4] = 0\n",
    "assert RMSE(M_comp, M) == np.sqrt((5**2 + 3**2 + 4**2)/389)"
   ]
  },
  {
   "cell_type": "markdown",
   "metadata": {
    "cell_marker": "\"\"\""
   },
   "source": [
    "# quantitative_comparison"
   ]
  },
  {
   "cell_type": "code",
   "execution_count": null,
   "metadata": {
    "lines_to_next_cell": 2
   },
   "outputs": [],
   "source": [
    "recommenders = [\n",
    "    {\"fn\": popularity.complete, \"label\": \"popularity\"},\n",
    "    {\"fn\": lambda M_train: knn.complete(M, k=10), \"label\": \"knn10\"},\n",
    "    {\"fn\": lambda M_train: svd.complete(M, 10), \"label\": \"svd10\"},\n",
    "    {\"fn\": lambda M_train: svd.complete(M, 20), \"label\": \"svd20\"}\n",
    "    ]\n",
    "quantitative_comparison(RMSE, M, recommenders, prop=0.8, nrep=10)\n",
    "\n",
    "\n"
   ]
  },
  {
   "cell_type": "code",
   "execution_count": null,
   "metadata": {},
   "outputs": [],
   "source": []
  },
  {
   "cell_type": "code",
   "execution_count": null,
   "metadata": {},
   "outputs": [],
   "source": []
  }
 ],
 "metadata": {
  "jupytext": {
   "cell_markers": "\"\"\"",
   "encoding": "# -*- coding: utf-8 -*-",
   "formats": "ipynb,py:percent"
  },
  "kernelspec": {
   "display_name": "Python 3",
   "language": "python",
   "name": "python3"
  },
  "language_info": {
   "codemirror_mode": {
    "name": "ipython",
    "version": 3
   },
   "file_extension": ".py",
   "mimetype": "text/x-python",
   "name": "python",
   "nbconvert_exporter": "python",
   "pygments_lexer": "ipython3",
   "version": "3.7.10"
  }
 },
 "nbformat": 4,
 "nbformat_minor": 4
}
