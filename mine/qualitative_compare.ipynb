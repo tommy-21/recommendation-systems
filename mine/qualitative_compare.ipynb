{
 "cells": [
  {
   "cell_type": "markdown",
   "metadata": {
    "cell_marker": "\"\"\""
   },
   "source": [
    "# Évaluation qualitative\n",
    "> Comparons qualitativement les différents algorithmes en terme de qualité de prédiction"
   ]
  },
  {
   "cell_type": "markdown",
   "metadata": {
    "cell_marker": "\"\"\""
   },
   "source": [
    "Charger les bibliothèques et les données"
   ]
  },
  {
   "cell_type": "code",
   "execution_count": 1,
   "metadata": {},
   "outputs": [
    {
     "data": {
      "application/javascript": [
       "IPython.notebook.set_autosave_interval(0)"
      ]
     },
     "metadata": {},
     "output_type": "display_data"
    },
    {
     "name": "stdout",
     "output_type": "stream",
     "text": [
      "Autosave disabled\n"
     ]
    }
   ],
   "source": [
    "%autosave 0\n",
    "%reload_ext autoreload\n",
    "%autoreload 2\n",
    "\n",
    "from data import *\n",
    "import popularity\n",
    "import knn\n",
    "import svd\n",
    "#import als\n",
    "\n",
    "from time import time\n",
    "import pandas as pd"
   ]
  },
  {
   "cell_type": "code",
   "execution_count": 2,
   "metadata": {},
   "outputs": [],
   "source": [
    "M = load_data(tiny=True)"
   ]
  },
  {
   "cell_type": "markdown",
   "metadata": {
    "cell_marker": "\"\"\"",
    "lines_to_next_cell": 2
   },
   "source": [
    "Liste d'algorithmes à comparer"
   ]
  },
  {
   "cell_type": "code",
   "execution_count": 15,
   "metadata": {},
   "outputs": [],
   "source": [
    "recommenders = [\n",
    "    {\"fn\": lambda M_train, id_user: popularity.recommend(M_train, id_user, new=True), \"label\": \"popularity\"},\n",
    "    {\"fn\": lambda M_train, id_user: knn.recommend(M_train, id_user, k=3, new=True), \"label\": \"knn3\"},\n",
    "    {\"fn\": lambda M_train, id_user: knn.recommend(M_train, id_user, k=10, new=True), \"label\": \"knn10\"},\n",
    "    {\"fn\": lambda M_train, id_user: svd.recommend(M_train, id_user, k=10, new=True), \"label\": \"svd10\"},\n",
    "    {\"fn\": lambda M_train, id_user: svd.recommend(M_train, id_user, k=20, new=True), \"label\": \"svd20\"}\n",
    "    ]"
   ]
  },
  {
   "cell_type": "markdown",
   "metadata": {
    "cell_marker": "\"\"\"",
    "lines_to_next_cell": 1
   },
   "source": [
    "Comparaison"
   ]
  },
  {
   "cell_type": "code",
   "execution_count": 21,
   "metadata": {
    "lines_to_next_cell": 1
   },
   "outputs": [],
   "source": [
    "def qualitative_comparaison(M_train, user_id, recommenders):\n",
    "    # utilisateur\n",
    "    print('-- user rates --')\n",
    "    movies_id = np.where(~np.isnan(M_train[user_id, :]))[0]\n",
    "    print(pd.DataFrame({\"movie\": movie_title(movies_id),\n",
    "                        \"rate\": M_train[user_id, movies_id]}))\n",
    "    print()\n",
    "\n",
    "    # recommandations\n",
    "    print('-- recommendations --')\n",
    "    rec = np.zeros(len(recommenders))\n",
    "    computation_time = np.zeros(len(recommenders))\n",
    "    for id_rec in range(len(recommenders)):\n",
    "        ptm = time()\n",
    "        rec[id_rec] = recommenders[id_rec]['fn'](M_train, user_id)\n",
    "        computation_time[id_rec] = (time() - ptm)\n",
    "\n",
    "    print(pd.DataFrame({\n",
    "        \"algo\": [rec['label'] for rec in recommenders],\n",
    "        \"recommendation\": movie_title(rec),\n",
    "        \"computation.time\": computation_time\n",
    "        }))"
   ]
  },
  {
   "cell_type": "code",
   "execution_count": 22,
   "metadata": {
    "lines_to_next_cell": 2
   },
   "outputs": [
    {
     "name": "stdout",
     "output_type": "stream",
     "text": [
      "-- user rates --\n",
      "                        movie  rate\n",
      "0  Usual Suspects, The (1995)   4.0\n",
      "\n",
      "-- recommendations --\n",
      "         algo        recommendation  computation.time\n",
      "0  popularity  Seven (Se7en) (1995)          0.000304\n",
      "1        knn3      Toy Story (1995)          0.015039\n",
      "2       knn10      Toy Story (1995)          0.008524\n",
      "3       svd10      Toy Story (1995)          0.000002\n",
      "4       svd20      Toy Story (1995)          0.000001\n"
     ]
    }
   ],
   "source": [
    "\n",
    "qualitative_comparaison(M, 2, recommenders)\n",
    "#qualitative_comparaison(M, 8, recommenders)\n",
    "#qualitative_comparaison(M, 10, recommenders)\n",
    "\n",
    "\n",
    "\n"
   ]
  },
  {
   "cell_type": "code",
   "execution_count": null,
   "metadata": {},
   "outputs": [],
   "source": []
  },
  {
   "cell_type": "code",
   "execution_count": null,
   "metadata": {},
   "outputs": [],
   "source": []
  }
 ],
 "metadata": {
  "jupytext": {
   "cell_markers": "\"\"\"",
   "encoding": "# -*- coding: utf-8 -*-",
   "formats": "ipynb,py:percent"
  },
  "kernelspec": {
   "display_name": "Python 3",
   "language": "python",
   "name": "python3"
  },
  "language_info": {
   "codemirror_mode": {
    "name": "ipython",
    "version": 3
   },
   "file_extension": ".py",
   "mimetype": "text/x-python",
   "name": "python",
   "nbconvert_exporter": "python",
   "pygments_lexer": "ipython3",
   "version": "3.7.10"
  }
 },
 "nbformat": 4,
 "nbformat_minor": 4
}
