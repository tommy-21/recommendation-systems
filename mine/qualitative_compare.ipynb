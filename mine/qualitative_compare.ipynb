{
 "cells": [
  {
   "cell_type": "markdown",
   "metadata": {
    "cell_marker": "\"\"\""
   },
   "source": [
    "# Évaluation qualitative\n",
    "> Comparons qualitativement les différents algorithmes en terme de qualité de prédiction"
   ]
  },
  {
   "cell_type": "markdown",
   "metadata": {
    "cell_marker": "\"\"\""
   },
   "source": [
    "Charger les bibliothèques et les données"
   ]
  },
  {
   "cell_type": "code",
   "execution_count": 1,
   "metadata": {},
   "outputs": [
    {
     "data": {
      "application/javascript": "IPython.notebook.set_autosave_interval(0)"
     },
     "metadata": {},
     "output_type": "display_data"
    },
    {
     "name": "stdout",
     "output_type": "stream",
     "text": [
      "Autosave disabled\n"
     ]
    }
   ],
   "source": [
    "%autosave 0\n",
    "%reload_ext autoreload\n",
    "%autoreload 2\n",
    "\n",
    "from data import *\n",
    "import popularity\n",
    "import knn\n",
    "import svd\n",
    "#import als\n",
    "\n",
    "from time import time\n",
    "import pandas as pd"
   ]
  },
  {
   "cell_type": "code",
   "execution_count": 2,
   "metadata": {},
   "outputs": [],
   "source": [
    "M = load_data(tiny=True)"
   ]
  },
  {
   "cell_type": "markdown",
   "metadata": {
    "cell_marker": "\"\"\"",
    "lines_to_next_cell": 2
   },
   "source": [
    "Liste d'algorithmes à comparer"
   ]
  },
  {
   "cell_type": "code",
   "execution_count": 3,
   "metadata": {},
   "outputs": [],
   "source": [
    "recommenders = [\n",
    "    {\"fn\": lambda M_train, id_user: popularity.recommend(M_train, id_user, new=True), \"label\": \"popularity\"},\n",
    "    {\"fn\": lambda M_train, id_user: knn.recommend(M_train, id_user, k=3, new=True), \"label\": \"knn3\"},\n",
    "    {\"fn\": lambda M_train, id_user: knn.recommend(M_train, id_user, k=10, new=True), \"label\": \"knn10\"},\n",
    "    {\"fn\": lambda M_train, id_user: svd.recommend(M_train, id_user, k=10, new=True), \"label\": \"svd10\"},\n",
    "    {\"fn\": lambda M_train, id_user: svd.recommend(M_train, id_user, k=20, new=True), \"label\": \"svd20\"}\n",
    "    ]"
   ]
  },
  {
   "cell_type": "markdown",
   "metadata": {
    "cell_marker": "\"\"\"",
    "lines_to_next_cell": 1
   },
   "source": [
    "Comparaison"
   ]
  },
  {
   "cell_type": "code",
   "execution_count": 4,
   "metadata": {
    "lines_to_next_cell": 1
   },
   "outputs": [],
   "source": [
    "def qualitative_comparaison(M_train, user_id, recommenders):\n",
    "    # utilisateur\n",
    "    print('-- user rates --')\n",
    "    movies_id = np.where(~np.isnan(M_train[user_id, :]))[0]\n",
    "    print(pd.DataFrame({\"movie\": movie_title(movies_id),\n",
    "                        \"rate\": M_train[user_id, movies_id]}))\n",
    "    print()\n",
    "\n",
    "    # recommandations\n",
    "    print('-- recommendations --')\n",
    "    rec = np.zeros(len(recommenders))\n",
    "    computation_time = np.zeros(len(recommenders))\n",
    "    for id_rec in range(len(recommenders)):\n",
    "        ptm = time()\n",
    "        rec[id_rec] = recommenders[id_rec]['fn'](M_train, user_id)\n",
    "        computation_time[id_rec] = (time() - ptm)\n",
    "\n",
    "    print(pd.DataFrame({\n",
    "        \"algo\": [rec['label'] for rec in recommenders],\n",
    "        \"recommendation\": movie_title(rec),\n",
    "        \"computation.time\": computation_time\n",
    "        }))"
   ]
  },
  {
   "cell_type": "code",
   "execution_count": 6,
   "metadata": {
    "lines_to_next_cell": 2
   },
   "outputs": [
    {
     "name": "stdout",
     "output_type": "stream",
     "text": [
      "-- user rates --\n",
      "                        movie  rate\n",
      "0  Usual Suspects, The (1995)   4.0\n",
      "\n",
      "-- recommendations --\n",
      "         algo           recommendation  computation.time\n",
      "0  popularity    Twelve Monkeys (1995)          0.000387\n",
      "1        knn3    Twelve Monkeys (1995)          0.017610\n",
      "2       knn10    Twelve Monkeys (1995)          0.018306\n",
      "3       svd10  Mighty Aphrodite (1995)          0.000477\n",
      "4       svd20  Mighty Aphrodite (1995)          0.000427\n",
      "-- user rates --\n",
      "                          movie  rate\n",
      "0              GoldenEye (1995)   4.0\n",
      "1                Copycat (1995)   4.0\n",
      "2                   Babe (1995)   4.0\n",
      "3            Richard III (1995)   4.0\n",
      "4    Usual Suspects, The (1995)   4.0\n",
      "5       Mighty Aphrodite (1995)   5.0\n",
      "6            Postino, Il (1994)   3.0\n",
      "7    From Dusk Till Dawn (1996)   4.0\n",
      "8            Taxi Driver (1976)   5.0\n",
      "9    Rumble in the Bronx (1995)   5.0\n",
      "10             Desperado (1995)   4.0\n",
      "11  Doom Generation, The (1995)   4.0\n",
      "\n",
      "-- recommendations --\n",
      "         algo             recommendation  computation.time\n",
      "0  popularity      Twelve Monkeys (1995)          0.000297\n",
      "1        knn3      Batman Forever (1995)          0.021539\n",
      "2       knn10      Twelve Monkeys (1995)          0.022280\n",
      "3       svd10  Mr. Holland s Opus (1995)          0.000598\n",
      "4       svd20           Apollo 13 (1995)          0.000587\n",
      "-- user rates --\n",
      "                                movie  rate\n",
      "0                      Copycat (1995)   5.0\n",
      "1  French Twist (Gazon maudit) (1995)   5.0\n",
      "2               Batman Forever (1995)   5.0\n",
      "\n",
      "-- recommendations --\n",
      "         algo                                     recommendation  \\\n",
      "0  popularity                              Twelve Monkeys (1995)   \n",
      "1        knn3                          Mr. Holland s Opus (1995)   \n",
      "2       knn10                              Twelve Monkeys (1995)   \n",
      "3       svd10  To Wong Foo, Thanks for Everything! Julie Newm...   \n",
      "4       svd20                                    Bad Boys (1995)   \n",
      "\n",
      "   computation.time  \n",
      "0          0.000444  \n",
      "1          0.031124  \n",
      "2          0.015411  \n",
      "3          0.000380  \n",
      "4          0.000365  \n"
     ]
    },
    {
     "name": "stderr",
     "output_type": "stream",
     "text": [
      "/home/ensai/Documents/Cours_ENSAI_3A/Rec_systems/TP/repo/mine/popularity.py:23: RuntimeWarning: Mean of empty slice\n",
      "  scores = np.nanmean(M_train, axis=0) # compute the average rating for each movies\n",
      "/home/ensai/Documents/Cours_ENSAI_3A/Rec_systems/TP/repo/mine/popularity.py:23: RuntimeWarning: Mean of empty slice\n",
      "  scores = np.nanmean(M_train, axis=0) # compute the average rating for each movies\n",
      "/home/ensai/Documents/Cours_ENSAI_3A/Rec_systems/TP/repo/mine/popularity.py:23: RuntimeWarning: Mean of empty slice\n",
      "  scores = np.nanmean(M_train, axis=0) # compute the average rating for each movies\n"
     ]
    }
   ],
   "source": [
    "\n",
    "qualitative_comparaison(M, 2, recommenders)\n",
    "qualitative_comparaison(M, 8, recommenders)\n",
    "qualitative_comparaison(M, 10, recommenders)\n"
   ]
  },
  {
   "cell_type": "code",
   "execution_count": null,
   "metadata": {},
   "outputs": [],
   "source": []
  },
  {
   "cell_type": "code",
   "execution_count": null,
   "metadata": {},
   "outputs": [],
   "source": []
  }
 ],
 "metadata": {
  "jupytext": {
   "cell_markers": "\"\"\"",
   "encoding": "# -*- coding: utf-8 -*-",
   "formats": "ipynb,py:percent"
  },
  "kernelspec": {
   "display_name": "Python 3",
   "language": "python",
   "name": "python3"
  },
  "language_info": {
   "codemirror_mode": {
    "name": "ipython",
    "version": 3
   },
   "file_extension": ".py",
   "mimetype": "text/x-python",
   "name": "python",
   "nbconvert_exporter": "python",
   "pygments_lexer": "ipython3",
   "version": "3.8.10"
  }
 },
 "nbformat": 4,
 "nbformat_minor": 4
}
